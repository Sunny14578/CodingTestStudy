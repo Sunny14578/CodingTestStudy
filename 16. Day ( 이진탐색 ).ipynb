{
 "cells": [
  {
   "cell_type": "markdown",
   "metadata": {},
   "source": [
    "### 리트코드 167. Two Sum II - Input Array Is Sorted\n",
    "https://leetcode.com/problems/two-sum-ii-input-array-is-sorted/description/"
   ]
  },
  {
   "cell_type": "code",
   "execution_count": 31,
   "metadata": {},
   "outputs": [],
   "source": [
    "numbers = [2,7,11,15]\n",
    "target = 9"
   ]
  },
  {
   "cell_type": "code",
   "execution_count": 32,
   "metadata": {},
   "outputs": [
    {
     "name": "stdout",
     "output_type": "stream",
     "text": [
      "{2: 0}\n",
      "{2: 0, 7: 1}\n",
      "{2: 0, 7: 1, 11: 2}\n",
      "{2: 0, 7: 1, 11: 2, 15: 3}\n",
      "음?\n",
      "9 2 0 1\n",
      "음?\n",
      "9 7 1 0\n",
      "\n"
     ]
    }
   ],
   "source": [
    "dic = {}\n",
    "\n",
    "for i, num in enumerate(numbers):\n",
    "    dic[num] = i\n",
    "    print(dic)\n",
    "    \n",
    "for i, num in enumerate(numbers):\n",
    "    if target - num in dic:\n",
    "        return [i+1, dic[target-num]+1]"
   ]
  },
  {
   "cell_type": "markdown",
   "metadata": {},
   "source": [
    "### 백준 2512번 예산\n",
    "https://www.acmicpc.net/problem/2512"
   ]
  },
  {
   "cell_type": "code",
   "execution_count": 33,
   "metadata": {},
   "outputs": [
    {
     "name": "stdout",
     "output_type": "stream",
     "text": [
      "4\n",
      "120 110 140 150\n"
     ]
    }
   ],
   "source": [
    "n = int(input())\n",
    "arr = list(map(int, input().split()))\n",
    "target = int(input())\n",
    "\n",
    "arr.sort()\n",
    "\n",
    "start = 0\n",
    "end = arr[-1]\n",
    "\n",
    "while start <= end:\n",
    "    mid = (start + end) // 2\n",
    "    \n",
    "    s = 0\n",
    "    for i in arr:\n",
    "        if i <= mid:\n",
    "            s += i\n",
    "        else:\n",
    "            s += mid\n",
    "            \n",
    "    if s <= target:\n",
    "        start = mid + 1 \n",
    "    else:\n",
    "        end = mid - 1\n",
    "        \n",
    "print(end)"
   ]
  },
  {
   "cell_type": "markdown",
   "metadata": {},
   "source": [
    "### 백준 2805번 나무 자르기\n",
    "https://www.acmicpc.net/problem/2805"
   ]
  },
  {
   "cell_type": "code",
   "execution_count": 72,
   "metadata": {},
   "outputs": [
    {
     "name": "stdout",
     "output_type": "stream",
     "text": [
      "5 20\n",
      "4 42 40 26 46\n",
      "36\n"
     ]
    }
   ],
   "source": [
    "n, m = map(int, input().split())\n",
    "arr = list(map(int, input().split()))\n",
    "\n",
    "arr.sort()\n",
    "\n",
    "start = 0\n",
    "end = arr[-1]\n",
    "\n",
    "while start <= end:\n",
    "    mid = (start+end)//2\n",
    "\n",
    "    s = 0\n",
    "    \n",
    "    for i in arr:\n",
    "        if i > mid:\n",
    "            s += i-mid\n",
    "\n",
    "    if s >= m:\n",
    "        start = mid + 1\n",
    "    else:\n",
    "        end = mid - 1\n",
    "        \n",
    "print(end)"
   ]
  },
  {
   "cell_type": "markdown",
   "metadata": {},
   "source": [
    "### 백준 1654번 랜선 자르기\n",
    "https://www.acmicpc.net/problem/1654"
   ]
  },
  {
   "cell_type": "code",
   "execution_count": 73,
   "metadata": {},
   "outputs": [
    {
     "name": "stdout",
     "output_type": "stream",
     "text": [
      "4 11\n",
      "802\n",
      "743\n",
      "457\n",
      "539\n"
     ]
    }
   ],
   "source": [
    "n, m = map(int, input().split())\n",
    "arr = []\n",
    "\n",
    "for _ in range(n):\n",
    "    arr.append(int(input()))\n",
    "    \n",
    "start = 1\n",
    "end = max(arr)\n",
    "\n",
    "while start <= end:\n",
    "    mid = (start + end) // 2\n",
    "    \n",
    "    cnt = 0\n",
    "    for i in arr:\n",
    "        cnt += i // mid\n",
    "        \n",
    "    if cnt < m:\n",
    "        end = mid - 1\n",
    "    elif cnt >= m:\n",
    "        start = mid + 1\n",
    "        \n",
    "print(end)"
   ]
  },
  {
   "cell_type": "markdown",
   "metadata": {},
   "source": [
    "### "
   ]
  }
 ],
 "metadata": {
  "kernelspec": {
   "display_name": "Python 3",
   "language": "python",
   "name": "python3"
  },
  "language_info": {
   "codemirror_mode": {
    "name": "ipython",
    "version": 3
   },
   "file_extension": ".py",
   "mimetype": "text/x-python",
   "name": "python",
   "nbconvert_exporter": "python",
   "pygments_lexer": "ipython3",
   "version": "3.7.7"
  }
 },
 "nbformat": 4,
 "nbformat_minor": 4
}
