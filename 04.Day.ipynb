{
 "cells": [
  {
   "cell_type": "markdown",
   "metadata": {},
   "source": [
    "### 연결리스트"
   ]
  },
  {
   "cell_type": "code",
   "execution_count": 1,
   "metadata": {},
   "outputs": [],
   "source": [
    "class ListNode:\n",
    "    def __init__(self, val=0, next=None):\n",
    "        self.val = val\n",
    "        self.next = next\n",
    "        \n",
    "class LinkedList:\n",
    "    # 삽입, 삭제\n",
    "    def __init__(self):\n",
    "        self.head = None\n",
    "    \n",
    "    def append(self, val):\n",
    "        if not self.head:\n",
    "            self.head = ListNode(val, None)\n",
    "            return\n",
    "    \n",
    "        node = self.head\n",
    "        while node.next:\n",
    "            node = node.next\n",
    "        node.next = ListNode(val, None)\n",
    "        \n",
    "    def remove(self, )"
   ]
  },
  {
   "cell_type": "markdown",
   "metadata": {},
   "source": [
    "https://leetcode.com/problems/palindrome-linked-list/\n",
    "\n",
    "펠린드롬 문제"
   ]
  },
  {
   "cell_type": "code",
   "execution_count": null,
   "metadata": {},
   "outputs": [],
   "source": [
    "class Solution:\n",
    "    def isPalindrome(self, head: ListNode) -> bool:\n",
    "        head_list = []\n",
    "        while head:\n",
    "            head_list.append(head.val)\n",
    "            head = head.next\n",
    "        return head_list == head_list[::-1]  # [::-1] 뒤집기 즉 뒤집엇을때도 같은가를 판단"
   ]
  },
  {
   "cell_type": "code",
   "execution_count": 14,
   "metadata": {},
   "outputs": [],
   "source": [
    "class ListNode:\n",
    "    def __init__(self, val=0, next=None):\n",
    "        self.val = val\n",
    "        self.next = next"
   ]
  },
  {
   "attachments": {
    "image.png": {
     "image/png": "[encoded data removed]"
    }
   },
   "cell_type": "markdown",
   "metadata": {},
   "source": [
    "![image.png](attachment:image.png)"
   ]
  },
  {
   "cell_type": "code",
   "execution_count": 16,
   "metadata": {},
   "outputs": [
    {
     "name": "stdout",
     "output_type": "stream",
     "text": [
      "12 74 23 8 "
     ]
    }
   ],
   "source": [
    "head_node = ListNode(12)\n",
    "head_node.next = ListNode(74)\n",
    "head_node.next.next = ListNode(23)\n",
    "head_node.next.next.next = ListNode(8)\n",
    "\n",
    "def printNodes(node:ListNode):\n",
    "    crnt_node = node\n",
    "    while crnt_node is not None:\n",
    "        print(crnt_node.val , end= ' ')\n",
    "        crnt_node = crnt_node.next\n",
    "        \n",
    "printNodes(head_node)"
   ]
  },
  {
   "cell_type": "code",
   "execution_count": 76,
   "metadata": {},
   "outputs": [],
   "source": [
    "class ListNode:\n",
    "    def __init__(self, val=0, next=None):\n",
    "        self.val = val\n",
    "        self.next = next\n",
    "\n",
    "class LinkedList:\n",
    "    def __init__(self):\n",
    "        self.head = None\n",
    "        self.size = 0\n",
    "        \n",
    "    def insert(self, prev_node, data):\n",
    "        node = ListNode(data)\n",
    "        self.size += 1\n",
    "        \n",
    "        if prev_node:\n",
    "            node.next = prev_node.next\n",
    "            prev_node.next = node\n",
    "        else:\n",
    "            node.next = self.head\n",
    "            self.head = node"
   ]
  },
  {
   "cell_type": "code",
   "execution_count": 77,
   "metadata": {},
   "outputs": [],
   "source": [
    "l = LinkedList()\n",
    "l.insert(None, 1)\n",
    "l.insert(l.head, 3)"
   ]
  },
  {
   "cell_type": "code",
   "execution_count": 78,
   "metadata": {},
   "outputs": [
    {
     "data": {
      "text/plain": [
       "1"
      ]
     },
     "execution_count": 78,
     "metadata": {},
     "output_type": "execute_result"
    }
   ],
   "source": [
    "l.head.val"
   ]
  },
  {
   "cell_type": "code",
   "execution_count": 79,
   "metadata": {},
   "outputs": [
    {
     "data": {
      "text/plain": [
       "3"
      ]
     },
     "execution_count": 79,
     "metadata": {},
     "output_type": "execute_result"
    }
   ],
   "source": [
    "l.head.next.val"
   ]
  },
  {
   "cell_type": "markdown",
   "metadata": {},
   "source": [
    "### 리트코드 Reverse Linked List"
   ]
  },
  {
   "cell_type": "code",
   "execution_count": null,
   "metadata": {},
   "outputs": [],
   "source": [
    "class Solution:\n",
    "    def __init__(self):\n",
    "        self.head = None\n",
    "\n",
    "    def reverseList(self, head: Optional[ListNode]) -> Optional[ListNode]:\n",
    "        while head:\n",
    "            self.firstAppend(head.val)\n",
    "            head = head.next\n",
    "        return self.head\n",
    "                \n",
    "    def firstAppend(self, val):\n",
    "        node = ListNode(val)\n",
    "        node.next = self.head\n",
    "        self.head = node"
   ]
  },
  {
   "cell_type": "code",
   "execution_count": null,
   "metadata": {},
   "outputs": [],
   "source": []
  },
  {
   "cell_type": "code",
   "execution_count": null,
   "metadata": {},
   "outputs": [],
   "source": []
  },
  {
   "cell_type": "markdown",
   "metadata": {},
   "source": [
    "### 백준 5397번 키로거"
   ]
  },
  {
   "cell_type": "code",
   "execution_count": null,
   "metadata": {},
   "outputs": [],
   "source": []
  },
  {
   "cell_type": "code",
   "execution_count": 61,
   "metadata": {},
   "outputs": [
    {
     "name": "stdout",
     "output_type": "stream",
     "text": [
      "1\n",
      "<<BP<A>>Cd-\n",
      "<<BP<A>>Cd-\n",
      "BAPC\n"
     ]
    }
   ],
   "source": [
    "import sys\n",
    "\n",
    "n = int(input())\n",
    "\n",
    "for i in range(n):\n",
    "    s = input().strip()\n",
    "    print(s)\n",
    "    left = []\n",
    "    right = []\n",
    "    \n",
    "    for i in s:\n",
    "        if i == '<':\n",
    "            if left:\n",
    "                right.append(left.pop())\n",
    "        elif i == '>':\n",
    "            if right:\n",
    "                left.append(right.pop())\n",
    "        elif i == '-':\n",
    "            if left:\n",
    "                left.pop()\n",
    "        else:\n",
    "            left.append(i)\n",
    "    print(''.join(left) + ''.join(reversed(right)))"
   ]
  },
  {
   "cell_type": "markdown",
   "metadata": {},
   "source": [
    "### 복습 하기"
   ]
  },
  {
   "cell_type": "code",
   "execution_count": 1,
   "metadata": {},
   "outputs": [],
   "source": [
    "jewels = \"aA\"\n",
    "stones = \"aAAbbbb\""
   ]
  },
  {
   "cell_type": "code",
   "execution_count": 2,
   "metadata": {},
   "outputs": [
    {
     "name": "stdout",
     "output_type": "stream",
     "text": [
      "3\n"
     ]
    }
   ],
   "source": [
    "cnt = 0\n",
    "\n",
    "for i in jewels:\n",
    "    cnt += stones.count(i)\n",
    "print(cnt)"
   ]
  },
  {
   "cell_type": "code",
   "execution_count": null,
   "metadata": {},
   "outputs": [],
   "source": [
    "\n",
    "\n",
    "MAX = 0\n",
    "start = 0\n",
    "dic = {}\n",
    "\n",
    "for i, c in enumerate(s):\n",
    "    if c in dic and start <= dic[c]:\n",
    "        start = dic[c] + 1\n",
    "    else:\n",
    "        MAX = max(MAX, i - start + 1)\n",
    "    dic[c] = i\n",
    "    \n",
    "return MAX\n",
    "        "
   ]
  },
  {
   "cell_type": "code",
   "execution_count": 19,
   "metadata": {},
   "outputs": [
    {
     "name": "stdout",
     "output_type": "stream",
     "text": [
      "{} a\n",
      "1 맥스\n",
      "{'a': 0} b\n",
      "2 맥스\n",
      "{'a': 0, 'b': 1} c\n",
      "3 맥스\n",
      "{'a': 0, 'b': 1, 'c': 2} a\n",
      "1 스타트\n",
      "{'a': 3, 'b': 1, 'c': 2} b\n",
      "2 스타트\n",
      "{'a': 3, 'b': 4, 'c': 2} c\n",
      "3 스타트\n",
      "{'a': 3, 'b': 4, 'c': 5} b\n",
      "5 스타트\n",
      "{'a': 3, 'b': 6, 'c': 5} b\n",
      "7 스타트\n"
     ]
    }
   ],
   "source": [
    "s = 'abcabcbb'\n",
    "MAX = 0\n",
    "start = 0\n",
    "dic = {}\n",
    "for i, c in enumerate(s):\n",
    "    print(dic, c)\n",
    "    if c in dic and start <= dic[c]:\n",
    "        start = dic[c] + 1\n",
    "        print(start, '스타트')\n",
    "    else:\n",
    "        MAX = max(MAX, i - start + 1)\n",
    "        print(MAX, '맥스')\n",
    "    dic[c] = i\n"
   ]
  },
  {
   "cell_type": "code",
   "execution_count": null,
   "metadata": {},
   "outputs": [],
   "source": [
    "Example 1:\n",
    "\n",
    "Input: strs = [\"eat\",\"tea\",\"tan\",\"ate\",\"nat\",\"bat\"]\n",
    "Output: [[\"bat\"],[\"nat\",\"tan\"],[\"ate\",\"eat\",\"tea\"]]"
   ]
  },
  {
   "cell_type": "code",
   "execution_count": 20,
   "metadata": {},
   "outputs": [],
   "source": []
  },
  {
   "cell_type": "code",
   "execution_count": 35,
   "metadata": {},
   "outputs": [
    {
     "name": "stdout",
     "output_type": "stream",
     "text": [
      "[['eat', 'tea', 'ate'], ['tan', 'nat'], ['bat']]\n"
     ]
    }
   ],
   "source": [
    "strs = [\"eat\",\"tea\",\"tan\",\"ate\",\"nat\",\"bat\"]\n",
    "\n",
    "dic = {}\n",
    "answer = []\n",
    "\n",
    "for i in strs:\n",
    "    s = sorted(i)\n",
    "    st = ''.join(s)\n",
    "\n",
    "    if st in dic:\n",
    "        dic[st].append(i)\n",
    "    else:\n",
    "        dic[st] = [i]\n",
    "print(list(dic.values()))"
   ]
  },
  {
   "cell_type": "markdown",
   "metadata": {},
   "source": [
    "### Longest Palindromic Substring"
   ]
  },
  {
   "cell_type": "code",
   "execution_count": 38,
   "metadata": {},
   "outputs": [],
   "source": []
  },
  {
   "cell_type": "code",
   "execution_count": 44,
   "metadata": {},
   "outputs": [
    {
     "name": "stdout",
     "output_type": "stream",
     "text": [
      "0\n",
      "1\n",
      "2\n",
      "3\n",
      "bab\n",
      "4\n"
     ]
    }
   ],
   "source": [
    "s = 'bacbab'\n",
    "\n",
    "def expand(left, right):\n",
    "    while left >= 0 and right < len(s) and s[left] == s[right]:\n",
    "        left -= 1\n",
    "        right += 1\n",
    "    return s[left+1 : right]\n",
    "\n",
    "if len(s) < 2 or s == s[::-1]:\n",
    "    print(s, '답')\n",
    "\n",
    "result = ''\n",
    "\n",
    "for i in range(len(s)-1):\n",
    "    print(i)\n",
    "    result = max(result, \n",
    "        expand(i, i+1),\n",
    "        expand(i, i+2),\n",
    "        key = len)\n",
    "        \n"
   ]
  },
  {
   "cell_type": "code",
   "execution_count": 53,
   "metadata": {},
   "outputs": [
    {
     "name": "stdout",
     "output_type": "stream",
     "text": [
      "[[-1, -1, 2], [-1, 0, 1]]\n"
     ]
    }
   ],
   "source": [
    "nums = [-1,0,1,2,-1,-4]\n",
    "\n",
    "nums.sort()\n",
    "results = []\n",
    "\n",
    "for i in range(len(nums) - 2):  # 3개의 요소를 이용해야하기 때문에 -2 처리\n",
    "    # 중복인 경우를 제외하기 위한 조건문\n",
    "    if i > 0 and nums[i] == nums[i-1]:\n",
    "        continue\n",
    "\n",
    "    left = i+1 # left는 i의 한칸 뒤\n",
    "    right = len(nums) - 1 # right는 배열의 끝에서부터\n",
    "\n",
    "    while left < right: # 배열의 끝에서부터 시작하는 right가 한칸 씩 앞으로 오면서 left와 같아지는 순간에 종료\n",
    "        sum = nums[i] + nums[left] + nums[right]\n",
    "              \n",
    "        if sum < 0:\n",
    "            left += 1\n",
    "        elif sum > 0:\n",
    "            right -= 1\n",
    "        else:\n",
    "            results.append([nums[i], nums[left], nums[right]])\n",
    "\n",
    "            while left < right and nums[left] == nums[left + 1]:\n",
    "                left += 1\n",
    "                      \n",
    "            while left < right and nums[right] == nums[right - 1]:\n",
    "                right -= 1\n",
    "                    \n",
    "            left += 1\n",
    "            right -= 1\n",
    "print(results)"
   ]
  },
  {
   "cell_type": "code",
   "execution_count": null,
   "metadata": {},
   "outputs": [],
   "source": []
  }
 ],
 "metadata": {
  "kernelspec": {
   "display_name": "Python 3",
   "language": "python",
   "name": "python3"
  },
  "language_info": {
   "codemirror_mode": {
    "name": "ipython",
    "version": 3
   },
   "file_extension": ".py",
   "mimetype": "text/x-python",
   "name": "python",
   "nbconvert_exporter": "python",
   "pygments_lexer": "ipython3",
   "version": "3.7.7"
  }
 },
 "nbformat": 4,
 "nbformat_minor": 4
}
