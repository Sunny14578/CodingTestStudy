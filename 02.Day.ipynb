{
 "cells": [
  {
   "cell_type": "markdown",
   "metadata": {},
   "source": [
    "### 해시테이블"
   ]
  },
  {
   "cell_type": "markdown",
   "metadata": {},
   "source": [
    "파이썬은 딕셔너리 타입이 해시테이블이고 개별 체이닝으로 충돌을 해결할시 메모리를 할당하는 오버헤드가 높아 오픈 어드레싱 방법을 채택했다.\n",
    "\n",
    "put, get, remove"
   ]
  },
  {
   "cell_type": "markdown",
   "metadata": {},
   "source": [
    "#### 개별 체이닝 방식을 이용한 해시 테이블 구현"
   ]
  },
  {
   "cell_type": "code",
   "execution_count": 12,
   "metadata": {},
   "outputs": [],
   "source": [
    "import collections\n",
    "\n",
    "class MyHashMap:\n",
    "    def __init__(self):\n",
    "        self.size = 1000\n",
    "        self.table = collections.defaultdict(ListNode)\n",
    "    \n",
    "    def put(self, key: int, value: int) -> None:\n",
    "        index = key%self.size\n",
    "        # 인덱스에 노드가 없다면 삽입 후 종료\n",
    "        if self.table[index].value is None:\n",
    "            self.table[index] = ListNode(key, value)\n",
    "            return\n",
    "        \n",
    "        # 인덱스에 노드가 존재하는 경우 연결리스트 처리\n",
    "        p = self.table[index]\n",
    "        while p:\n",
    "            if p.key == key:\n",
    "                p.value = value\n",
    "                return\n",
    "            if p.next is None:\n",
    "                break\n",
    "            p = p.next\n",
    "        p.next = ListNode(key, value)\n",
    "    \n",
    "    def get(self, key: int) -> int:\n",
    "        index = key % self.size\n",
    "        if self.table[index].value is None:\n",
    "            return -1\n",
    "        \n",
    "        p = self.table[index]\n",
    "        while p:\n",
    "            if p.key == key:\n",
    "                return p.value\n",
    "            p = p.next\n",
    "        return -1\n",
    "    \n",
    "    def remove(self, key: int) -> None:\n",
    "        index = key % self.size\n",
    "        if self.table[index].value is None:\n",
    "            return\n",
    "        \n",
    "        # 인덱스의 첫번째 노드일 때 삭제 처리\n",
    "        p = self.table[index]\n",
    "        if p.key == key:\n",
    "            self.table[index] = ListNode() if p.next is None else p.next\n",
    "            return\n",
    "        \n",
    "        # 연결 리스트 노드 삭제\n",
    "        prev = p\n",
    "        while p:\n",
    "            if p.key == key:\n",
    "                prev.next = p.next\n",
    "                return\n",
    "            prev, p = p, p.next\n",
    "        \n",
    "class ListNode: # 키, 값을 보관하고 연결 리스트로 처리할 객체클래스\n",
    "    def __init__(self, key=None, value=None):\n",
    "        self.key = key\n",
    "        self.value = value\n",
    "        self.next = None"
   ]
  },
  {
   "cell_type": "code",
   "execution_count": 13,
   "metadata": {},
   "outputs": [],
   "source": [
    "hashMap = MyHashMap()"
   ]
  },
  {
   "cell_type": "code",
   "execution_count": 18,
   "metadata": {},
   "outputs": [
    {
     "data": {
      "text/plain": [
       "-1"
      ]
     },
     "execution_count": 18,
     "metadata": {},
     "output_type": "execute_result"
    }
   ],
   "source": [
    "hashMap.put(1, 1)\n",
    "hashMap.put(2, 2)\n",
    "hashMap.get(1)\n",
    "hashMap.get(3)"
   ]
  },
  {
   "cell_type": "markdown",
   "metadata": {},
   "source": [
    "### 리트코드 보석과 돌"
   ]
  },
  {
   "cell_type": "code",
   "execution_count": 24,
   "metadata": {},
   "outputs": [
    {
     "name": "stdout",
     "output_type": "stream",
     "text": [
      "0\n"
     ]
    }
   ],
   "source": [
    "class Solution:\n",
    "    def numJewelsInStones(self, jewels: str, stones: str) -> int:\n",
    "        dic = {}\n",
    "        for i in jewels:\n",
    "            dic[i] = \"\"\n",
    "\n",
    "        answer = 0\n",
    "        for key in dic.keys():\n",
    "            cnt = stones.count(key)\n",
    "            answer += cnt\n",
    "            \n",
    "        return answer"
   ]
  },
  {
   "cell_type": "markdown",
   "metadata": {},
   "source": [
    "### 중복 문자가 없는 가장 긴 부분 문자열"
   ]
  },
  {
   "cell_type": "code",
   "execution_count": 65,
   "metadata": {},
   "outputs": [
    {
     "name": "stdout",
     "output_type": "stream",
     "text": [
      "0 t {'t': 0} 0 맥스 : 1\n",
      "1 m {'t': 0, 'm': 1} 0 맥스 : 2\n",
      "2 m {'t': 0, 'm': 2} 2 맥스 : 2\n",
      "3 z {'t': 0, 'm': 2, 'z': 3} 2 맥스 : 2\n",
      "4 u {'t': 0, 'm': 2, 'z': 3, 'u': 4} 2 맥스 : 3\n",
      "5 x {'t': 0, 'm': 2, 'z': 3, 'u': 4, 'x': 5} 2 맥스 : 4\n",
      "6 t {'t': 6, 'm': 2, 'z': 3, 'u': 4, 'x': 5} 2 맥스 : 5\n",
      "5\n"
     ]
    }
   ],
   "source": [
    "s =\"tmmzuxt\"\n",
    "\n",
    "MAX = 0\n",
    "start = 0\n",
    "dic = {}\n",
    "\n",
    "for i, c in enumerate(s):\n",
    "    if c in dic and start <= dic[c]:\n",
    "        start = dic[c] + 1\n",
    "    else:\n",
    "        MAX = max(MAX, i - start + 1)\n",
    "    dic[c] = i\n",
    "print(MAX)"
   ]
  },
  {
   "cell_type": "markdown",
   "metadata": {},
   "source": [
    "### 상위 K 빈도 요소"
   ]
  },
  {
   "cell_type": "code",
   "execution_count": 72,
   "metadata": {},
   "outputs": [
    {
     "name": "stdout",
     "output_type": "stream",
     "text": [
      "[1, 2]\n"
     ]
    }
   ],
   "source": [
    "nums = [1, 1, 1, 2, 2, 3]\n",
    "k = 2\n",
    "\n",
    "count = []\n",
    "answer = []\n",
    "\n",
    "for i in set(nums):\n",
    "    count.append([nums.count(i), i])\n",
    "    \n",
    "count.sort(reverse=True)\n",
    "\n",
    "for i in range(k):\n",
    "    answer.append(count[i][1])\n",
    "print(answer)"
   ]
  },
  {
   "cell_type": "markdown",
   "metadata": {},
   "source": [
    "zip 파이썬에서 여러개의 iterable 객체를 받아 각 iterable에서 같은 인덱스의 요소들을 튜플로 묶어주는 함수"
   ]
  },
  {
   "cell_type": "code",
   "execution_count": 116,
   "metadata": {},
   "outputs": [
    {
     "name": "stdout",
     "output_type": "stream",
     "text": [
      "('Alice', 25, 95)\n",
      "('Bob', 30, 85)\n",
      "('Charlie', 35, 90)\n"
     ]
    }
   ],
   "source": [
    "names = [\"Alice\", \"Bob\", \"Charlie\"]\n",
    "ages = [25, 30, 35]\n",
    "scores = [95, 85, 90]\n",
    "\n",
    "# zip 함수를 사용하여 리스트 묶기\n",
    "zipped_data = zip(names, ages, scores)\n",
    "\n",
    "for i in zipped_data:\n",
    "    print(i)\n",
    "\n",
    "# *를 사용하여 언패킹\n",
    "unzipped_names, unzipped_ages, unzipped_scores = zip(*zipped_data)\n",
    "\n",
    "# 결과 출력\n",
    "print(\"Names:\", unzipped_names)\n",
    "print(\"Ages:\", unzipped_ages)\n",
    "print(\"Scores:\", unzipped_scores)"
   ]
  },
  {
   "cell_type": "code",
   "execution_count": 124,
   "metadata": {},
   "outputs": [
    {
     "name": "stdout",
     "output_type": "stream",
     "text": [
      "Counter({1: 3, 2: 2, 3: 1}) 각 요소의 빈도수를 리턴해줌\n",
      "[(1, 3), (2, 2)] 빈도수 상위 k개를 리턴해줌\n",
      "[(1, 3), (2, 2)]\n"
     ]
    }
   ],
   "source": [
    "nums = [1, 1, 1, 2, 2, 3]\n",
    "k = 2\n",
    "\n",
    "print(collections.Counter(nums), '각 요소의 빈도수를 리턴해줌')\n",
    "print(collections.Counter(nums).most_common(k), '빈도수 상위 k개를 리턴해줌')\n",
    "\n",
    "test = collections.Counter(nums).most_common(k)"
   ]
  },
  {
   "cell_type": "code",
   "execution_count": 138,
   "metadata": {},
   "outputs": [
    {
     "data": {
      "text/plain": [
       "(1, 2)"
      ]
     },
     "execution_count": 138,
     "metadata": {},
     "output_type": "execute_result"
    }
   ],
   "source": [
    "list(zip(*collections.Counter(nums).most_common(k)))[0]"
   ]
  },
  {
   "cell_type": "markdown",
   "metadata": {},
   "source": [
    "### 백준 1920번 수 찾기"
   ]
  },
  {
   "cell_type": "code",
   "execution_count": 100,
   "metadata": {},
   "outputs": [
    {
     "name": "stdout",
     "output_type": "stream",
     "text": [
      "5\n",
      "4 1 5 2 3\n",
      "5\n",
      "1 3 7 9 5\n",
      "1\n",
      "1\n",
      "0\n",
      "0\n",
      "1\n"
     ]
    }
   ],
   "source": [
    "n = int(input())\n",
    "a = list(set(map(int, input().split())))\n",
    "m = int(input())\n",
    "find = list(map(int, input().split()))\n",
    "\n",
    "dic = {}\n",
    "\n",
    "for i in find:\n",
    "    if i not in dic:\n",
    "        if i in a:\n",
    "            dic[i] = 1\n",
    "        else:\n",
    "            dic[i] = 0\n",
    "    print(dic[i])"
   ]
  },
  {
   "cell_type": "markdown",
   "metadata": {},
   "source": [
    "#### 다른방법"
   ]
  },
  {
   "cell_type": "code",
   "execution_count": 101,
   "metadata": {},
   "outputs": [
    {
     "name": "stdout",
     "output_type": "stream",
     "text": [
      "1\n",
      "1\n",
      "0\n",
      "0\n",
      "1\n"
     ]
    }
   ],
   "source": [
    "n = int(input())\n",
    "a = set(map(int, input().split()))\n",
    "m = int(input())\n",
    "find = map(int, input().split())\n",
    "\n",
    "for i in find:\n",
    "    if i in a:\n",
    "        print(1)\n",
    "    else:\n",
    "        print(0)"
   ]
  },
  {
   "cell_type": "markdown",
   "metadata": {},
   "source": [
    "### 백준 17219번 비밀번호 찾기"
   ]
  },
  {
   "cell_type": "code",
   "execution_count": 106,
   "metadata": {},
   "outputs": [
    {
     "name": "stdout",
     "output_type": "stream",
     "text": [
      "16 4\n"
     ]
    }
   ],
   "source": [
    "n, m = map(int, input().split())\n",
    "\n",
    "dic = {}\n",
    "\n",
    "for i in range(n):\n",
    "    url, pw = input().split()\n",
    "    \n",
    "    if url not in dic:\n",
    "        dic[url] = pw\n",
    "\n",
    "for j in range(m):\n",
    "    url = input()\n",
    "    \n",
    "    print(dic[url])"
   ]
  },
  {
   "cell_type": "markdown",
   "metadata": {},
   "source": [
    "### 백준 28278번 스택2"
   ]
  },
  {
   "cell_type": "markdown",
   "metadata": {},
   "source": [
    "입력에서 sys를 사용하지않으면 시간초과가 발생했다."
   ]
  },
  {
   "cell_type": "code",
   "execution_count": 137,
   "metadata": {
    "collapsed": true
   },
   "outputs": [
    {
     "name": "stdout",
     "output_type": "stream",
     "text": [
      "9\n",
      "4\n",
      "1\n",
      "[] 다음\n",
      "1 3\n",
      "[3] 다음\n",
      "1 5\n",
      "[3, 5] 다음\n",
      "3\n",
      "2\n",
      "[3, 5] 다음\n",
      "2\n",
      "5\n",
      "[3] 다음\n",
      "5\n",
      "3\n",
      "[3] 다음\n",
      "2\n",
      "3\n",
      "[] 다음\n",
      "2\n",
      "-1\n",
      "[] 다음\n",
      "5\n",
      "-1\n",
      "[] 다음\n"
     ]
    }
   ],
   "source": [
    "import sys\n",
    "\n",
    "n = int(sys.stdin.readline())\n",
    "\n",
    "def myStack(stack, command):\n",
    "    l = len(stack)\n",
    "    \n",
    "    if command[0] == '1':\n",
    "        stack.append(command[1])\n",
    "    elif command[0] == '2':\n",
    "        if stack:\n",
    "            print(stack.pop())\n",
    "        else:\n",
    "            print(-1)\n",
    "    elif command[0] == '3':\n",
    "        print(l)\n",
    "    elif command[0] == '4':\n",
    "        if stack:\n",
    "            print(0)\n",
    "        else:\n",
    "            print(1)\n",
    "    else:\n",
    "        if stack:\n",
    "            print(stack[-1])\n",
    "        else:\n",
    "            print(-1)\n",
    "stack = []\n",
    "\n",
    "for i in range(n):    \n",
    "    command = sys.stdin.readline().split()\n",
    "    myStack(stack, command)"
   ]
  },
  {
   "cell_type": "markdown",
   "metadata": {},
   "source": [
    "### 백준 10773번 제로"
   ]
  },
  {
   "cell_type": "code",
   "execution_count": 141,
   "metadata": {},
   "outputs": [
    {
     "name": "stdout",
     "output_type": "stream",
     "text": [
      "10\n",
      "1\n",
      "3\n",
      "5\n",
      "4\n",
      "0\n",
      "0\n",
      "7\n",
      "0\n",
      "0\n",
      "6\n",
      "[1, 6]\n",
      "7\n"
     ]
    }
   ],
   "source": [
    "k = int(input())\n",
    "\n",
    "stack = []\n",
    "\n",
    "for i in range(k):\n",
    "    value = int(input())\n",
    "    \n",
    "    if value == 0:\n",
    "        stack.pop()\n",
    "    else:\n",
    "        stack.append(value)\n",
    "\n",
    "print(sum(stack))"
   ]
  },
  {
   "cell_type": "markdown",
   "metadata": {},
   "source": [
    "### 백준 4949번 균형잡힌 세상"
   ]
  },
  {
   "cell_type": "code",
   "execution_count": 175,
   "metadata": {},
   "outputs": [
    {
     "name": "stdout",
     "output_type": "stream",
     "text": [
      "([ (([( [ ] ) ( ) (( ))] )) ]).\n",
      "yes\n",
      "f\n",
      "yes\n",
      ".\n"
     ]
    }
   ],
   "source": [
    "while True:\n",
    "    a = input()\n",
    "    stack = []\n",
    "    \n",
    "    if a == \".\" :\n",
    "        break\n",
    "    \n",
    "    for i in a:\n",
    "        if i == '(' or i == ')' or i == '[' or i == ']':\n",
    "            if stack:\n",
    "                if stack[-1] == '(' and i == ')':\n",
    "                    stack.pop()\n",
    "                    continue\n",
    "                elif stack[-1] == '[' and i == ']':\n",
    "                    stack.pop()\n",
    "                    continue\n",
    "            stack.append(i)\n",
    "    \n",
    "    if len(stack) == 0 :\n",
    "        print('yes')\n",
    "    else :\n",
    "        print('no')"
   ]
  },
  {
   "cell_type": "markdown",
   "metadata": {},
   "source": [
    "### 백준 12789번 도키도키 간식드리미"
   ]
  },
  {
   "cell_type": "code",
   "execution_count": 188,
   "metadata": {},
   "outputs": [
    {
     "name": "stdout",
     "output_type": "stream",
     "text": [
      "5\n",
      "5 4 1 3 2 \n",
      "[4, 1, 3, 2] [1, 2, 3, 4, 5] [5]\n",
      "[1, 3, 2] [1, 2, 3, 4, 5] [5, 4]\n",
      "[1, 3, 2] [2, 3, 4, 5] [5, 4]\n",
      "[3, 2] [2, 3, 4, 5] [5, 4, 1]\n",
      "[2] [2, 3, 4, 5] [5, 4, 1, 3]\n",
      "[2] [3, 4, 5] [5, 4, 1, 3]\n",
      "[] [3, 4, 5] [5, 4, 1, 3, 2]\n"
     ]
    },
    {
     "data": {
      "text/plain": [
       "'Nice'"
      ]
     },
     "execution_count": 188,
     "metadata": {},
     "output_type": "execute_result"
    }
   ],
   "source": [
    "n = int(input())\n",
    "people = list(map(int, input().split()))\n",
    "\n",
    "goal = sorted(people)\n",
    "\n",
    "stack = []\n",
    "\n",
    "def solution():\n",
    "    while people:\n",
    "        if len(stack) >= 2:\n",
    "            if stack[0] < stack[1]:\n",
    "                return 'Sad'\n",
    "\n",
    "        if people[0] == goal[0]:\n",
    "            goal.pop(0)\n",
    "        else:\n",
    "            stack.append(people.pop(0))\n",
    "    return 'Nice'\n",
    "\n",
    "solution()"
   ]
  },
  {
   "cell_type": "code",
   "execution_count": 191,
   "metadata": {},
   "outputs": [
    {
     "name": "stdout",
     "output_type": "stream",
     "text": [
      "5\n",
      "5 4 1 3 2\n",
      "[4, 1, 3, 2] [5]\n",
      "[1, 3, 2] [5, 4]\n",
      "[3, 2] [5, 4]\n",
      "[2] [5, 4, 3]\n",
      "[] [5, 4, 3]\n",
      "Nice\n"
     ]
    }
   ],
   "source": [
    "n = int(input())\n",
    "people = list(map(int, input().split()))\n",
    "\n",
    "goal = 1\n",
    "stack = []\n",
    "\n",
    "while people:\n",
    "    if people[0] == goal:\n",
    "        people.pop(0)\n",
    "        goal += 1\n",
    "    else:\n",
    "        stack.append(people.pop(0))\n",
    "  \n",
    "    while stack:\n",
    "        if stack[-1] == goal:\n",
    "            stack.pop()\n",
    "            goal += 1\n",
    "        else:\n",
    "            break\n",
    "\n",
    "if stack:\n",
    "    print('Sad')\n",
    "else:\n",
    "    print('Nice')"
   ]
  },
  {
   "cell_type": "code",
   "execution_count": 179,
   "metadata": {},
   "outputs": [
    {
     "data": {
      "text/plain": [
       "'Nice'"
      ]
     },
     "execution_count": 179,
     "metadata": {},
     "output_type": "execute_result"
    }
   ],
   "source": []
  },
  {
   "cell_type": "code",
   "execution_count": null,
   "metadata": {},
   "outputs": [],
   "source": []
  }
 ],
 "metadata": {
  "kernelspec": {
   "display_name": "Python 3",
   "language": "python",
   "name": "python3"
  },
  "language_info": {
   "codemirror_mode": {
    "name": "ipython",
    "version": 3
   },
   "file_extension": ".py",
   "mimetype": "text/x-python",
   "name": "python",
   "nbconvert_exporter": "python",
   "pygments_lexer": "ipython3",
   "version": "3.7.7"
  }
 },
 "nbformat": 4,
 "nbformat_minor": 4
}
