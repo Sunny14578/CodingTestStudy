{
 "cells": [
  {
   "cell_type": "markdown",
   "metadata": {},
   "source": [
    "### 리트코드 Diameter of Binary Tree\n",
    "https://leetcode.com/problems/diameter-of-binary-tree/description/"
   ]
  },
  {
   "cell_type": "code",
   "execution_count": 7,
   "metadata": {},
   "outputs": [],
   "source": [
    "# Definition for a binary tree node.\n",
    "# class TreeNode:\n",
    "#     def __init__(self, val=0, left=None, right=None):\n",
    "#         self.val = val\n",
    "#         self.left = left\n",
    "#         self.right = right\n",
    "class Solution:\n",
    "    from collections import deque\n",
    "\n",
    "    def diameterOfBinaryTree(self, root: Optional[TreeNode]) -> int:\n",
    "        if not root:\n",
    "            return 0\n",
    "\n",
    "        max_diameter = 0\n",
    "        q = deque([root])\n",
    "\n",
    "        while q:\n",
    "            node = q.popleft()\n",
    "            left = self.depth(node.left)\n",
    "            right = self.depth(node.right)\n",
    "            diameter = left+right\n",
    "            \n",
    "            max_diameter = max(max_diameter, diameter)\n",
    "            \n",
    "            if node.left:\n",
    "                q.append(node.left)\n",
    "            if node.right:\n",
    "                q.append(node.right)\n",
    "            \n",
    "        return max_diameter\n",
    "\n",
    "    def depth(self, node):\n",
    "        if not node:\n",
    "            return 0\n",
    "        return max(self.depth(node.left), self.depth(node.right)) + 1"
   ]
  },
  {
   "cell_type": "markdown",
   "metadata": {},
   "source": [
    "### 백준 11725번 트리의 부모 찾기"
   ]
  },
  {
   "cell_type": "code",
   "execution_count": 25,
   "metadata": {},
   "outputs": [
    {
     "name": "stdout",
     "output_type": "stream",
     "text": [
      "7\n",
      "1 6\n",
      "6 3\n",
      "3 5\n",
      "4 1\n",
      "2 4\n",
      "4 7\n"
     ]
    }
   ],
   "source": [
    "from collections import deque\n",
    "\n",
    "\n",
    "n = int(input())\n",
    "\n",
    "graph = [[] for _ in range(n+1)]\n",
    "\n",
    "for i in range(n-1):\n",
    "    u, v = map(int, input().split())\n",
    "    graph[u].append(v)\n",
    "    graph[v].append(u)\n",
    "    \n",
    "visit = [0]*(n+1)\n",
    "\n",
    "def bfs():\n",
    "    q = deque([1])\n",
    "    \n",
    "    while q:\n",
    "        val = q.popleft()\n",
    " \n",
    "        for i in graph[val]:\n",
    "            if visit[i] == 0:\n",
    "                visit[i] = val\n",
    "                q.append(i)\n",
    "bfs()\n",
    "\n",
    "for i in range(2, len(visit)):\n",
    "    print(visit[i])"
   ]
  },
  {
   "cell_type": "markdown",
   "metadata": {},
   "source": [
    "### 백준 1068번 트리\n",
    "https://www.acmicpc.net/problem/1068"
   ]
  },
  {
   "cell_type": "code",
   "execution_count": 139,
   "metadata": {},
   "outputs": [
    {
     "name": "stdout",
     "output_type": "stream",
     "text": [
      "5\n",
      "1 2 3 4 -1\n",
      "3\n",
      "[[1], [0, 2], [1], [], []]\n",
      "1\n"
     ]
    }
   ],
   "source": [
    "from collections import deque\n",
    "\n",
    "n = int(input())\n",
    "par = list(map(int, input().split()))\n",
    "del_node = int(input())\n",
    "\n",
    "graph = [[] for _ in range(n)]\n",
    "\n",
    "nodes = [[idx, val] for idx, val in enumerate(par)]\n",
    "\n",
    "for i in nodes:\n",
    "    u, v = i\n",
    "    if v == -1 or u == del_node or v == del_node:\n",
    "        continue\n",
    "    graph[u].append(v)\n",
    "    graph[v].append(u)\n",
    "root = par.index(-1)\n",
    "visit = [0]*n\n",
    "\n",
    "def bfs():\n",
    "    answer = 0\n",
    "    q = deque([root])\n",
    "    \n",
    "    while q:\n",
    "        val = q.popleft()\n",
    "    \n",
    "        if len(graph[val]) == 1 and val != root:\n",
    "            answer += 1\n",
    "\n",
    "        for i in graph[val]:\n",
    "            if visit[i] == 0:\n",
    "                visit[i] = 1\n",
    "                q.append(i)\n",
    "    return answer\n",
    "\n",
    "if not graph[root] and not graph[del_node]:\n",
    "    print(1)\n",
    "else:\n",
    "    print(bfs())"
   ]
  },
  {
   "cell_type": "code",
   "execution_count": 152,
   "metadata": {},
   "outputs": [
    {
     "name": "stdout",
     "output_type": "stream",
     "text": [
      "5\n",
      "-1 0 0 1 1\n",
      "2\n",
      "[[1, 2], [3, 4], [], [], [0]]\n",
      "0\n",
      "0\n",
      "0\n",
      "1\n",
      "2 답\n"
     ]
    }
   ],
   "source": [
    "from collections import deque\n",
    "\n",
    "n = int(input())\n",
    "par = list(map(int, input().split()))\n",
    "del_node = int(input())\n",
    "\n",
    "graph = [[] for _ in range(n)]\n",
    "visit = [0] * n \n",
    "\n",
    "nodes = [[idx, val] for idx, val in enumerate(par)]\n",
    "root = par.index(-1)\n",
    "\n",
    "for i in nodes:\n",
    "    u, v = i\n",
    "\n",
    "    graph[v].append(u)\n",
    "\n",
    "visit[root] = 1\n",
    "visit[del_node] = 1\n",
    "\n",
    "def bfs():\n",
    "    answer = 0\n",
    "    \n",
    "    q = deque([root])\n",
    "    \n",
    "    while q:\n",
    "        check = 0\n",
    "        val = q.popleft()\n",
    "        \n",
    "        if graph[val]:\n",
    "            for i in graph[val]:\n",
    "                if visit[i] == 0:\n",
    "                    visit[i] = 1\n",
    "                    q.append(i)\n",
    "                    check = 1\n",
    "                    \n",
    "        if check == 0:\n",
    "            answer += 1\n",
    "    return answer\n",
    "\n",
    "print(bfs())"
   ]
  },
  {
   "cell_type": "code",
   "execution_count": 147,
   "metadata": {},
   "outputs": [
    {
     "data": {
      "text/plain": [
       "[1, 1, 1, 1, 1]"
      ]
     },
     "execution_count": 147,
     "metadata": {},
     "output_type": "execute_result"
    }
   ],
   "source": [
    "visit"
   ]
  },
  {
   "cell_type": "code",
   "execution_count": null,
   "metadata": {},
   "outputs": [],
   "source": []
  }
 ],
 "metadata": {
  "kernelspec": {
   "display_name": "Python 3",
   "language": "python",
   "name": "python3"
  },
  "language_info": {
   "codemirror_mode": {
    "name": "ipython",
    "version": 3
   },
   "file_extension": ".py",
   "mimetype": "text/x-python",
   "name": "python",
   "nbconvert_exporter": "python",
   "pygments_lexer": "ipython3",
   "version": "3.7.7"
  }
 },
 "nbformat": 4,
 "nbformat_minor": 4
}
