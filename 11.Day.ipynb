{
 "cells": [
  {
   "cell_type": "markdown",
   "metadata": {},
   "source": [
    "### 백준 6497번\n",
    "https://www.acmicpc.net/problem/6497"
   ]
  },
  {
   "cell_type": "code",
   "execution_count": 8,
   "metadata": {},
   "outputs": [
    {
     "name": "stdout",
     "output_type": "stream",
     "text": [
      "7 11\n",
      "0 1 7\n",
      "0 3 5\n",
      "1 2 8\n",
      "1 3 9\n",
      "1 4 7\n",
      "2 4 5\n",
      "3 4 15\n",
      "3 5 6\n",
      "4 5 8\n",
      "4 6 9\n",
      "5 6 11\n",
      "51\n",
      "0 0\n"
     ]
    }
   ],
   "source": [
    "# 특정 원소가 속한 집합 찾기\n",
    "def find(parent, x):\n",
    "    # 루트 노드를 찾을 때 까지 재귀 호출\n",
    "    if parent[x] != x:\n",
    "        parent[x] = find(parent,parent[x])\n",
    "    return parent[x]\n",
    "\n",
    "# 두 원소가 속한 집합을 합치기\n",
    "def union(parent, x, y):\n",
    "    x = find(parent, x)\n",
    "    y = find(parent, y)\n",
    "    if x < y:\n",
    "        parent[y] = x\n",
    "    else:\n",
    "        parent[x] = y\n",
    "\n",
    "while True:\n",
    "    m, n = map(int, input().split())\n",
    "    if m == 0 and n == 0:\n",
    "        break\n",
    "    parent = [i for i in range(m)]\n",
    "    \n",
    "    edges = [] # 간선을 담을 리스트\n",
    "    result = 0 # 최종 비용을 담을 변수\n",
    "    \n",
    "    for _ in range(n):\n",
    "        x, y, cost = map(int, input().split())\n",
    "        edges.append((cost, x, y))\n",
    "    edges.sort()\n",
    "\n",
    "    for edge in edges:\n",
    "        cost, x, y = edge\n",
    "        # 사이클이 발생하지 않는 경우에만 집합에 포함\n",
    "        if find(parent, x) != find(parent, y):\n",
    "            union(parent, x, y)\n",
    "        else:\n",
    "            result += cost\n",
    "        \n",
    "    print(result)"
   ]
  },
  {
   "cell_type": "code",
   "execution_count": 6,
   "metadata": {},
   "outputs": [],
   "source": []
  }
 ],
 "metadata": {
  "kernelspec": {
   "display_name": "Python 3",
   "language": "python",
   "name": "python3"
  },
  "language_info": {
   "codemirror_mode": {
    "name": "ipython",
    "version": 3
   },
   "file_extension": ".py",
   "mimetype": "text/x-python",
   "name": "python",
   "nbconvert_exporter": "python",
   "pygments_lexer": "ipython3",
   "version": "3.7.7"
  }
 },
 "nbformat": 4,
 "nbformat_minor": 4
}
