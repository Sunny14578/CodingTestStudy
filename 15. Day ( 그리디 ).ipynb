{
 "cells": [
  {
   "cell_type": "markdown",
   "metadata": {},
   "source": [
    "### 백준 13975번 파일 합치기 3\n",
    "https://www.acmicpc.net/problem/13975"
   ]
  },
  {
   "cell_type": "code",
   "execution_count": 20,
   "metadata": {
    "collapsed": true
   },
   "outputs": [
    {
     "name": "stdout",
     "output_type": "stream",
     "text": [
      "1\n",
      "1\n",
      "ㄷㄷㅇ\n"
     ]
    },
    {
     "ename": "ValueError",
     "evalue": "invalid literal for int() with base 10: 'ㄷㄷㅇ'",
     "output_type": "error",
     "traceback": [
      "\u001b[1;31m---------------------------------------------------------------------------\u001b[0m",
      "\u001b[1;31mValueError\u001b[0m                                Traceback (most recent call last)",
      "\u001b[1;32m<ipython-input-20-1691ec8e15c5>\u001b[0m in \u001b[0;36m<module>\u001b[1;34m\u001b[0m\n\u001b[0;32m     15\u001b[0m \u001b[1;32mfor\u001b[0m \u001b[0m_\u001b[0m \u001b[1;32min\u001b[0m \u001b[0mrange\u001b[0m\u001b[1;33m(\u001b[0m\u001b[0mt\u001b[0m\u001b[1;33m)\u001b[0m\u001b[1;33m:\u001b[0m\u001b[1;33m\u001b[0m\u001b[1;33m\u001b[0m\u001b[0m\n\u001b[0;32m     16\u001b[0m     \u001b[0mk\u001b[0m \u001b[1;33m=\u001b[0m \u001b[0mint\u001b[0m\u001b[1;33m(\u001b[0m\u001b[0minput\u001b[0m\u001b[1;33m(\u001b[0m\u001b[1;33m)\u001b[0m\u001b[1;33m)\u001b[0m\u001b[1;33m\u001b[0m\u001b[1;33m\u001b[0m\u001b[0m\n\u001b[1;32m---> 17\u001b[1;33m     \u001b[0mfiles\u001b[0m \u001b[1;33m=\u001b[0m \u001b[0mlist\u001b[0m\u001b[1;33m(\u001b[0m\u001b[0mmap\u001b[0m\u001b[1;33m(\u001b[0m\u001b[0mint\u001b[0m\u001b[1;33m,\u001b[0m \u001b[0minput\u001b[0m\u001b[1;33m(\u001b[0m\u001b[1;33m)\u001b[0m\u001b[1;33m.\u001b[0m\u001b[0msplit\u001b[0m\u001b[1;33m(\u001b[0m\u001b[1;33m)\u001b[0m\u001b[1;33m)\u001b[0m\u001b[1;33m)\u001b[0m\u001b[1;33m\u001b[0m\u001b[1;33m\u001b[0m\u001b[0m\n\u001b[0m\u001b[0;32m     18\u001b[0m \u001b[1;33m\u001b[0m\u001b[0m\n\u001b[0;32m     19\u001b[0m     \u001b[0manswer\u001b[0m \u001b[1;33m=\u001b[0m \u001b[1;36m0\u001b[0m\u001b[1;33m\u001b[0m\u001b[1;33m\u001b[0m\u001b[0m\n",
      "\u001b[1;31mValueError\u001b[0m: invalid literal for int() with base 10: 'ㄷㄷㅇ'"
     ]
    }
   ],
   "source": [
    "# 힙을 구성하여 최소 비용 두개를 꺼낸후 합한 값을 힙에 추가해서 계속 최소가 되는 경우만 꺼내서 계산한다\n",
    "\n",
    "t = int(input())\n",
    "\n",
    "def cost(files):\n",
    "    \n",
    "    heapq.heapify(files)\n",
    "    \n",
    "    value = heapq.heappop(files) + heapq.heappop(files)\n",
    "   \n",
    "    heapq.heappush(files, value)\n",
    "    \n",
    "    return value\n",
    "\n",
    "for _ in range(t):\n",
    "    k = int(input())\n",
    "    files = list(map(int, input().split()))\n",
    "                 \n",
    "    answer = 0\n",
    "    \n",
    "    while len(files) > 1:\n",
    "        answer += cost(files)\n",
    "        \n",
    "    print(answer)"
   ]
  },
  {
   "cell_type": "markdown",
   "metadata": {},
   "source": [
    "### 백준 11000번 강의실 배정\n",
    "https://www.acmicpc.net/problem/11000"
   ]
  },
  {
   "cell_type": "code",
   "execution_count": 30,
   "metadata": {},
   "outputs": [
    {
     "name": "stdout",
     "output_type": "stream",
     "text": [
      "8\n",
      "1 8\n",
      "9 16\n",
      "3 7\n",
      "8 10\n",
      "10 14\n",
      "5 6\n",
      "6 11\n",
      "11 12\n",
      "3\n"
     ]
    }
   ],
   "source": [
    "import heapq\n",
    "\n",
    "n = int(input())\n",
    "\n",
    "arr = []\n",
    "\n",
    "for _ in range(n):\n",
    "    a, b = map(int, input().split())\n",
    "    \n",
    "    arr.append([a, b])\n",
    "\n",
    "arr.sort()\n",
    "\n",
    "answer = [arr[0][1]]\n",
    "heapq.heapify(answer)\n",
    "\n",
    "for i in range(1, len(arr)):\n",
    "    if answer[0] <= arr[i][0]:\n",
    "        heapq.heappop(answer)\n",
    "    heapq.heappush(answer, arr[i][1])\n",
    "\n",
    "print(len(answer))"
   ]
  },
  {
   "cell_type": "markdown",
   "metadata": {},
   "source": [
    "### 백준 2212번 센서\n",
    "https://www.acmicpc.net/problem/2212"
   ]
  },
  {
   "cell_type": "code",
   "execution_count": 50,
   "metadata": {},
   "outputs": [
    {
     "name": "stdout",
     "output_type": "stream",
     "text": [
      "6\n",
      "2\n",
      "1 3 6 6 7 9\n",
      "5\n",
      "[0, 1, 2, 2, 3]\n"
     ]
    }
   ],
   "source": [
    "n = int(input())\n",
    "k = int(input())\n",
    "\n",
    "arr = list(map(int, input().split()))\n",
    "\n",
    "arr.sort()\n",
    "length = []\n",
    "\n",
    "for i in range(len(arr)-1):\n",
    "    length.append(arr[i+1] - arr[i])\n",
    "    \n",
    "length.sort()\n",
    "\n",
    "print(sum(length[:n-k]))\n",
    "print(length)"
   ]
  },
  {
   "cell_type": "code",
   "execution_count": null,
   "metadata": {},
   "outputs": [],
   "source": []
  },
  {
   "cell_type": "markdown",
   "metadata": {},
   "source": [
    "### 백준 13164번 행복 유치원\n",
    "https://www.acmicpc.net/problem/13164"
   ]
  },
  {
   "cell_type": "code",
   "execution_count": 49,
   "metadata": {},
   "outputs": [
    {
     "name": "stdout",
     "output_type": "stream",
     "text": [
      "5 3\n",
      "1 3 5 6 10\n"
     ]
    },
    {
     "data": {
      "text/plain": [
       "[1, 2]"
      ]
     },
     "execution_count": 49,
     "metadata": {},
     "output_type": "execute_result"
    }
   ],
   "source": [
    "n, k = map(int, input().split())\n",
    "arr = list(map(int, input().split()))\n",
    "\n",
    "answer = []\n",
    "\n",
    "for i in range(len(arr)-1):\n",
    "    t = arr[i+1] - arr[i]\n",
    "    answer.append(t)\n",
    "\n",
    "answer.sort()\n",
    "print(sum(answer[:n-k]))"
   ]
  },
  {
   "cell_type": "code",
   "execution_count": null,
   "metadata": {},
   "outputs": [],
   "source": []
  },
  {
   "cell_type": "markdown",
   "metadata": {},
   "source": [
    "### 백준 13305번 주유소\n",
    "https://www.acmicpc.net/problem/13305"
   ]
  },
  {
   "cell_type": "code",
   "execution_count": 53,
   "metadata": {},
   "outputs": [
    {
     "name": "stdout",
     "output_type": "stream",
     "text": [
      "4\n",
      "3 3 4\n",
      "1 1 1 1\n"
     ]
    }
   ],
   "source": [
    "n = int(input())\n",
    "dis = list(map(int, input().split()))\n",
    "price = list(map(int, input().split()))\n",
    "\n",
    "MIN = price[0]\n",
    "money = 0\n",
    "\n",
    "for i in range(len(dis)):\n",
    "    if MIN > price[i]:\n",
    "        MIN = price[i]\n",
    "    \n",
    "    money += MIN * dis[i]\n",
    "print(money)"
   ]
  },
  {
   "cell_type": "markdown",
   "metadata": {},
   "source": [
    "### 백준 11399번 ATM\n",
    "https://www.acmicpc.net/problem/11399"
   ]
  },
  {
   "cell_type": "code",
   "execution_count": 57,
   "metadata": {},
   "outputs": [
    {
     "name": "stdout",
     "output_type": "stream",
     "text": [
      "5\n",
      "3 1 4 3 2\n",
      "32\n"
     ]
    }
   ],
   "source": [
    "n = int(input())\n",
    "price = list(map(int, input().split()))\n",
    "\n",
    "time = 0\n",
    "SUM = 0\n",
    "\n",
    "price.sort()\n",
    "\n",
    "for i in range(len(price)):\n",
    "    time = time + price[i]\n",
    "    SUM += time\n",
    "print(SUM)"
   ]
  },
  {
   "cell_type": "markdown",
   "metadata": {},
   "source": [
    "### 백준 1946번 신입사원\n",
    "https://www.acmicpc.net/problem/1946"
   ]
  },
  {
   "cell_type": "code",
   "execution_count": 66,
   "metadata": {
    "collapsed": true
   },
   "outputs": [
    {
     "name": "stdout",
     "output_type": "stream",
     "text": [
      "2\n",
      "5\n",
      "3 2\n",
      "1 4\n",
      "4 1\n",
      "2 3\n",
      "5 5\n",
      "4\n",
      "7\n",
      "3 6\n",
      "7 3\n",
      "4 2\n",
      "1 4\n",
      "5 7\n",
      "2 5\n",
      "6 1\n",
      "3\n"
     ]
    }
   ],
   "source": [
    "t = int(input())\n",
    "\n",
    "for _ in range(t):\n",
    "    n = int(input())\n",
    "    \n",
    "    arr = []\n",
    "    cnt = 1\n",
    "    \n",
    "    for _ in range(n):\n",
    "        a, b = map(int, input().split())\n",
    "        \n",
    "        arr.append([a, b])\n",
    "    \n",
    "    arr.sort()\n",
    "    \n",
    "    score = arr[0][1]\n",
    "    \n",
    "    for i in range(len(arr)):\n",
    "        if arr[i][1] < score:\n",
    "            cnt += 1\n",
    "            score = arr[i][1]\n",
    "    print(cnt)"
   ]
  },
  {
   "cell_type": "code",
   "execution_count": 64,
   "metadata": {},
   "outputs": [
    {
     "name": "stdout",
     "output_type": "stream",
     "text": [
      "1\n",
      "1\n",
      "1\n",
      "1\n"
     ]
    }
   ],
   "source": []
  },
  {
   "cell_type": "code",
   "execution_count": null,
   "metadata": {},
   "outputs": [],
   "source": []
  }
 ],
 "metadata": {
  "kernelspec": {
   "display_name": "Python 3",
   "language": "python",
   "name": "python3"
  },
  "language_info": {
   "codemirror_mode": {
    "name": "ipython",
    "version": 3
   },
   "file_extension": ".py",
   "mimetype": "text/x-python",
   "name": "python",
   "nbconvert_exporter": "python",
   "pygments_lexer": "ipython3",
   "version": "3.7.7"
  }
 },
 "nbformat": 4,
 "nbformat_minor": 4
}
