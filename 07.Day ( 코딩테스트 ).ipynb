{
 "cells": [
  {
   "cell_type": "markdown",
   "metadata": {},
   "source": [
    "### 백준 2002번 추월"
   ]
  },
  {
   "cell_type": "code",
   "execution_count": 35,
   "metadata": {
    "collapsed": true
   },
   "outputs": [
    {
     "name": "stdout",
     "output_type": "stream",
     "text": [
      "5\n",
      "ZG206A\n",
      "PU234Q\n",
      "OS945CK\n",
      "ZG431SN\n",
      "ZG5962J\n",
      "ZG5962J\n",
      "OS945CK\n",
      "ZG206A\n",
      "PU234Q\n",
      "ZG431SN\n"
     ]
    }
   ],
   "source": [
    "n = int(input())\n",
    "\n",
    "start = []\n",
    "exit = []\n",
    "\n",
    "for i in range(n*2):\n",
    "    s = input()\n",
    "    \n",
    "    if i < n:\n",
    "        start.append([i, s])\n",
    "    else:\n",
    "        for k in start:\n",
    "            if k[1] == s:\n",
    "                exit.append([k[0], s])\n",
    "\n",
    "cnt = 0\n",
    "answer = 0\n",
    "\n",
    "for i in range(len(exit)):\n",
    "    for j in range(i+1, len(exit)):\n",
    "        if exit[i] > exit[j]:\n",
    "            answer += 1\n",
    "            break\n",
    "print(answer)"
   ]
  },
  {
   "cell_type": "markdown",
   "metadata": {},
   "source": [
    "### 카드 합체 놀이"
   ]
  },
  {
   "cell_type": "markdown",
   "metadata": {},
   "source": [
    "1. x번 카드와 y번 카드를 골라 그 두 장에 쓰여진 수를 더한 값을 계산한다 (x != y)\n",
    "2. 계산한 값을 x번 카드와 y번 카드 두 장 모두에 덮어 쓴다.\n",
    "\n",
    "이 과정을 총 m번 진행 후 n 장의 카드에 쓰여있는 수를 모두 더한 값을 가장 작게 만드는 것이 놀이의 목표다"
   ]
  },
  {
   "cell_type": "code",
   "execution_count": 50,
   "metadata": {},
   "outputs": [
    {
     "name": "stdout",
     "output_type": "stream",
     "text": [
      "4 2\n",
      "4 2 3 1\n",
      "[3, 3, 4, 3]\n",
      "[3, 6, 4, 6]\n",
      "19\n"
     ]
    }
   ],
   "source": [
    "from heapq import heapify, heappush, heappop\n",
    "\n",
    "n, m = map(int, input().split(' '))\n",
    "number = list(map(int, input().split(' ')))\n",
    "\n",
    "\n",
    "if m == 0:\n",
    "    print(sum(number))\n",
    "else:\n",
    "    for i in range(m):\n",
    "        heapify(number)\n",
    "\n",
    "        plus = number[0]+number[1]\n",
    "        \n",
    "        for _ in range(2):\n",
    "            heappop(number)\n",
    "            heappush(number, plus)\n",
    "        \n",
    "        #number[0], number[1] = plus, plus\n",
    "        \n",
    "print(sum(number))"
   ]
  },
  {
   "cell_type": "code",
   "execution_count": 62,
   "metadata": {},
   "outputs": [
    {
     "name": "stdout",
     "output_type": "stream",
     "text": [
      "5 3\n",
      "5 2 1 3 4\n",
      "[3, 4, 5] 팝후\n",
      "[3, 3, 5, 4] 플러스한번\n",
      "[3, 3, 5, 4, 3] 마지막\n",
      "[3, 4, 5] 팝후\n",
      "[3, 4, 5, 6] 플러스한번\n",
      "[3, 4, 5, 6, 6] 마지막\n",
      "[5, 6, 6] 팝후\n",
      "[5, 6, 6, 7] 플러스한번\n",
      "[5, 6, 6, 7, 7] 마지막\n",
      "31\n"
     ]
    }
   ],
   "source": [
    "from heapq import heapify, heappush, heappop\n",
    "\n",
    "n, m = map(int, input().split(' '))\n",
    "number = list(map(int, input().split(' ')))\n",
    "heapify(number)\n",
    "\n",
    "for i in range(m):\n",
    "    plus = heappop(number) + heappop(number)\n",
    "\n",
    "    heappush(number, plus)\n",
    "    heappush(number, plus)\n",
    "print(sum(number))"
   ]
  },
  {
   "cell_type": "markdown",
   "metadata": {},
   "source": [
    "### 백준 4949번 균형잡힌 세상"
   ]
  },
  {
   "cell_type": "code",
   "execution_count": 12,
   "metadata": {},
   "outputs": [
    {
     "name": "stdout",
     "output_type": "stream",
     "text": [
      "So when I die (the [first] I will see in (heaven) is a score list).\n",
      "[]\n",
      "['(']\n",
      "['(', '[']\n",
      "확인2\n",
      "['(', ']']\n",
      "['(', ']', '(']\n",
      "확인\n",
      "['(', ']', ')']\n",
      "no\n",
      ".\n"
     ]
    }
   ],
   "source": [
    "while True:\n",
    "    a = input()\n",
    "    stack = []\n",
    "    \n",
    "    if a == \".\" :\n",
    "        break\n",
    "    \n",
    "    for i in a:\n",
    "        if i == '(' or i == ')' or i == '[' or i == ']':\n",
    "            if stack:\n",
    "                if stack[-1] == '(' and i == ')':\n",
    "                    stack.pop()\n",
    "                    continue\n",
    "                   \n",
    "                elif stack[-1] == '[' and i == ']':\n",
    "                    stack.pop()\n",
    "                    continue\n",
    "                    \n",
    "            stack.append(i)\n",
    "    \n",
    "    if len(stack) == 0 :\n",
    "        print('yes')\n",
    "    else :\n",
    "        print('no')"
   ]
  },
  {
   "cell_type": "markdown",
   "metadata": {},
   "source": [
    "### 백준 2439번 탑"
   ]
  },
  {
   "cell_type": "code",
   "execution_count": 13,
   "metadata": {},
   "outputs": [
    {
     "name": "stdout",
     "output_type": "stream",
     "text": [
      "5\n",
      "6 9 5 7 4\n"
     ]
    }
   ],
   "source": [
    "n = int(input())\n",
    "\n",
    "top = list(map(int, input().split(' ')))\n",
    "\n",
    "answer = []\n",
    "\n",
    "for i in range(len(top)-1, 0, -1):\n",
    "    cnt = 0\n",
    "    for j in range(i-1, -1, -1):\n",
    "        if top[j] > top[i]:\n",
    "            answer.append(j+1)\n",
    "            cnt+=1\n",
    "            break\n",
    "            \n",
    "    if cnt == 0:\n",
    "        answer.append(0)\n",
    "        \n",
    "        \n",
    "answer.append(0)\n",
    "\n",
    "print(' '.join(map(str, answer[::-1])))\n",
    "\n",
    "####### 시간초과발생"
   ]
  },
  {
   "cell_type": "code",
   "execution_count": 54,
   "metadata": {},
   "outputs": [
    {
     "name": "stdout",
     "output_type": "stream",
     "text": [
      "0 0 2 2 4\n"
     ]
    }
   ],
   "source": [
    "answer = [0] * n\n",
    "stack = []\n",
    "\n",
    "for idx, val in enumerate(top):\n",
    "    while stack:\n",
    "        if stack[-1][1] < val:\n",
    "            stack.pop()\n",
    "        else:\n",
    "            answer[idx] = stack[-1][0]+1\n",
    "            break\n",
    "        \n",
    "    stack.append([idx, val])\n",
    "print(' '.join(map(str, answer)))"
   ]
  },
  {
   "cell_type": "code",
   "execution_count": 51,
   "metadata": {},
   "outputs": [
    {
     "data": {
      "text/plain": [
       "[0, 0, 2, 2, 4]"
      ]
     },
     "execution_count": 51,
     "metadata": {},
     "output_type": "execute_result"
    }
   ],
   "source": [
    "answer"
   ]
  }
 ],
 "metadata": {
  "kernelspec": {
   "display_name": "Python 3",
   "language": "python",
   "name": "python3"
  },
  "language_info": {
   "codemirror_mode": {
    "name": "ipython",
    "version": 3
   },
   "file_extension": ".py",
   "mimetype": "text/x-python",
   "name": "python",
   "nbconvert_exporter": "python",
   "pygments_lexer": "ipython3",
   "version": "3.7.7"
  }
 },
 "nbformat": 4,
 "nbformat_minor": 4
}
