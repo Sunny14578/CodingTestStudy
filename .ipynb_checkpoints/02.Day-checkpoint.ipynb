{
 "cells": [
  {
   "cell_type": "markdown",
   "metadata": {},
   "source": [
    "### 해시테이블"
   ]
  },
  {
   "cell_type": "markdown",
   "metadata": {},
   "source": [
    "파이썬은 딕셔너리 타입이 해시테이블이고 개별 체이닝으로 충돌을 해결할시 메모리를 할당하는 오버헤드가 높아 오픈 어드레싱 방법을 채택했다.\n",
    "\n",
    "put, get, remove"
   ]
  },
  {
   "cell_type": "markdown",
   "metadata": {},
   "source": [
    "#### 개별 체이닝 방식을 이용한 해시 테이블 구현"
   ]
  },
  {
   "cell_type": "code",
   "execution_count": 12,
   "metadata": {},
   "outputs": [],
   "source": [
    "import collections\n",
    "\n",
    "class MyHashMap:\n",
    "    def __init__(self):\n",
    "        self.size = 1000\n",
    "        self.table = collections.defaultdict(ListNode)\n",
    "    \n",
    "    def put(self, key: int, value: int) -> None:\n",
    "        index = key%self.size\n",
    "        # 인덱스에 노드가 없다면 삽입 후 종료\n",
    "        if self.table[index].value is None:\n",
    "            self.table[index] = ListNode(key, value)\n",
    "            return\n",
    "        \n",
    "        # 인덱스에 노드가 존재하는 경우 연결리스트 처리\n",
    "        p = self.table[index]\n",
    "        while p:\n",
    "            if p.key == key:\n",
    "                p.value = value\n",
    "                return\n",
    "            if p.next is None:\n",
    "                break\n",
    "            p = p.next\n",
    "        p.next = ListNode(key, value)\n",
    "    \n",
    "    def get(self, key: int) -> int:\n",
    "        index = key % self.size\n",
    "        if self.table[index].value is None:\n",
    "            return -1\n",
    "        \n",
    "        p = self.table[index]\n",
    "        while p:\n",
    "            if p.key == key:\n",
    "                return p.value\n",
    "            p = p.next\n",
    "        return -1\n",
    "    \n",
    "    def remove(self, key: int) -> None:\n",
    "        index = key % self.size\n",
    "        if self.table[index].value is None:\n",
    "            return\n",
    "        \n",
    "        # 인덱스의 첫번째 노드일 때 삭제 처리\n",
    "        p = self.table[index]\n",
    "        if p.key == key:\n",
    "            self.table[index] = ListNode() if p.next is None else p.next\n",
    "            return\n",
    "        \n",
    "        # 연결 리스트 노드 삭제\n",
    "        prev = p\n",
    "        while p:\n",
    "            if p.key == key:\n",
    "                prev.next = p.next\n",
    "                return\n",
    "            prev, p = p, p.next\n",
    "        \n",
    "class ListNode: # 키, 값을 보관하고 연결 리스트로 처리할 객체클래스\n",
    "    def __init__(self, key=None, value=None):\n",
    "        self.key = key\n",
    "        self.value = value\n",
    "        self.next = None"
   ]
  },
  {
   "cell_type": "code",
   "execution_count": 13,
   "metadata": {},
   "outputs": [],
   "source": [
    "hashMap = MyHashMap()"
   ]
  },
  {
   "cell_type": "code",
   "execution_count": 18,
   "metadata": {},
   "outputs": [
    {
     "data": {
      "text/plain": [
       "-1"
      ]
     },
     "execution_count": 18,
     "metadata": {},
     "output_type": "execute_result"
    }
   ],
   "source": [
    "hashMap.put(1, 1)\n",
    "hashMap.put(2, 2)\n",
    "hashMap.get(1)\n",
    "hashMap.get(3)"
   ]
  },
  {
   "cell_type": "markdown",
   "metadata": {},
   "source": [
    "### 리트코드 보석과 돌"
   ]
  },
  {
   "cell_type": "code",
   "execution_count": 24,
   "metadata": {},
   "outputs": [
    {
     "name": "stdout",
     "output_type": "stream",
     "text": [
      "0\n"
     ]
    }
   ],
   "source": [
    "class Solution:\n",
    "    def numJewelsInStones(self, jewels: str, stones: str) -> int:\n",
    "        dic = {}\n",
    "        for i in jewels:\n",
    "            dic[i] = \"\"\n",
    "\n",
    "        answer = 0\n",
    "        for key in dic.keys():\n",
    "            cnt = stones.count(key)\n",
    "            answer += cnt\n",
    "            \n",
    "        return answer"
   ]
  },
  {
   "cell_type": "markdown",
   "metadata": {},
   "source": [
    "### 중복 문자가 없는 가장 긴 부분 문자열"
   ]
  },
  {
   "cell_type": "code",
   "execution_count": 65,
   "metadata": {},
   "outputs": [
    {
     "name": "stdout",
     "output_type": "stream",
     "text": [
      "0 t {'t': 0} 0 맥스 : 1\n",
      "1 m {'t': 0, 'm': 1} 0 맥스 : 2\n",
      "2 m {'t': 0, 'm': 2} 2 맥스 : 2\n",
      "3 z {'t': 0, 'm': 2, 'z': 3} 2 맥스 : 2\n",
      "4 u {'t': 0, 'm': 2, 'z': 3, 'u': 4} 2 맥스 : 3\n",
      "5 x {'t': 0, 'm': 2, 'z': 3, 'u': 4, 'x': 5} 2 맥스 : 4\n",
      "6 t {'t': 6, 'm': 2, 'z': 3, 'u': 4, 'x': 5} 2 맥스 : 5\n",
      "5\n"
     ]
    }
   ],
   "source": [
    "s =\"tmmzuxt\"\n",
    "\n",
    "MAX = 0\n",
    "start = 0\n",
    "dic = {}\n",
    "\n",
    "for i, c in enumerate(s):\n",
    "    if c in dic and start <= dic[c]:\n",
    "        start = dic[c] + 1\n",
    "    else:\n",
    "        MAX = max(MAX, i - start + 1)\n",
    "    dic[c] = i\n",
    "print(MAX)"
   ]
  },
  {
   "cell_type": "markdown",
   "metadata": {},
   "source": [
    "### 상위 K 빈도 요소"
   ]
  },
  {
   "cell_type": "code",
   "execution_count": 72,
   "metadata": {},
   "outputs": [
    {
     "name": "stdout",
     "output_type": "stream",
     "text": [
      "[1, 2]\n"
     ]
    }
   ],
   "source": [
    "nums = [1, 1, 1, 2, 2, 3]\n",
    "k = 2\n",
    "\n",
    "count = []\n",
    "answer = []\n",
    "\n",
    "for i in set(nums):\n",
    "    count.append([nums.count(i), i])\n",
    "    \n",
    "count.sort(reverse=True)\n",
    "\n",
    "for i in range(k):\n",
    "    answer.append(count[i][1])\n",
    "print(answer)"
   ]
  },
  {
   "cell_type": "markdown",
   "metadata": {},
   "source": []
  }
 ],
 "metadata": {
  "kernelspec": {
   "display_name": "Python 3",
   "language": "python",
   "name": "python3"
  },
  "language_info": {
   "codemirror_mode": {
    "name": "ipython",
    "version": 3
   },
   "file_extension": ".py",
   "mimetype": "text/x-python",
   "name": "python",
   "nbconvert_exporter": "python",
   "pygments_lexer": "ipython3",
   "version": "3.7.7"
  }
 },
 "nbformat": 4,
 "nbformat_minor": 4
}
