{
 "cells": [
  {
   "cell_type": "markdown",
   "metadata": {},
   "source": [
    "### 백준 2002번 추월"
   ]
  },
  {
   "cell_type": "code",
   "execution_count": 35,
   "metadata": {
    "collapsed": true
   },
   "outputs": [
    {
     "name": "stdout",
     "output_type": "stream",
     "text": [
      "5\n",
      "ZG206A\n",
      "PU234Q\n",
      "OS945CK\n",
      "ZG431SN\n",
      "ZG5962J\n",
      "ZG5962J\n",
      "OS945CK\n",
      "ZG206A\n",
      "PU234Q\n",
      "ZG431SN\n"
     ]
    }
   ],
   "source": [
    "n = int(input())\n",
    "\n",
    "start = []\n",
    "exit = []\n",
    "\n",
    "for i in range(n*2):\n",
    "    s = input()\n",
    "    \n",
    "    if i < n:\n",
    "        start.append([i, s])\n",
    "    else:\n",
    "        for k in start:\n",
    "            if k[1] == s:\n",
    "                exit.append([k[0], s])\n",
    "\n",
    "cnt = 0\n",
    "answer = 0\n",
    "\n",
    "for i in range(len(exit)):\n",
    "    for j in range(i+1, len(exit)):\n",
    "        if exit[i] > exit[j]:\n",
    "            answer += 1\n",
    "            break\n",
    "print(answer)"
   ]
  },
  {
   "cell_type": "markdown",
   "metadata": {},
   "source": [
    "### 카드 합체 놀이"
   ]
  },
  {
   "cell_type": "markdown",
   "metadata": {},
   "source": [
    "1. x번 카드와 y번 카드를 골라 그 두 장에 쓰여진 수를 더한 값을 계산한다 (x != y)\n",
    "2. 계산한 값을 x번 카드와 y번 카드 두 장 모두에 덮어 쓴다.\n",
    "\n",
    "이 과정을 총 m번 진행 후 n 장의 카드에 쓰여있는 수를 모두 더한 값을 가장 작게 만드는 것이 놀이의 목표다"
   ]
  },
  {
   "cell_type": "code",
   "execution_count": 39,
   "metadata": {},
   "outputs": [
    {
     "name": "stdout",
     "output_type": "stream",
     "text": [
      "3 1\n",
      "3 2 6\n"
     ]
    }
   ],
   "source": [
    "n, m = map(int, input().split(' '))\n",
    "number = list(map(int, input().split(' ')))"
   ]
  },
  {
   "cell_type": "code",
   "execution_count": null,
   "metadata": {},
   "outputs": [],
   "source": []
  },
  {
   "cell_type": "code",
   "execution_count": 40,
   "metadata": {},
   "outputs": [
    {
     "data": {
      "text/plain": [
       "[3, 2, 6]"
      ]
     },
     "execution_count": 40,
     "metadata": {},
     "output_type": "execute_result"
    }
   ],
   "source": [
    "number"
   ]
  }
 ],
 "metadata": {
  "kernelspec": {
   "display_name": "Python 3",
   "language": "python",
   "name": "python3"
  },
  "language_info": {
   "codemirror_mode": {
    "name": "ipython",
    "version": 3
   },
   "file_extension": ".py",
   "mimetype": "text/x-python",
   "name": "python",
   "nbconvert_exporter": "python",
   "pygments_lexer": "ipython3",
   "version": "3.7.7"
  }
 },
 "nbformat": 4,
 "nbformat_minor": 4
}
