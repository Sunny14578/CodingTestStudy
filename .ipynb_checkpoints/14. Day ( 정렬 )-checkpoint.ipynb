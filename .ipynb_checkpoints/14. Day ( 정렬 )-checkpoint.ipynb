{
 "cells": [
  {
   "cell_type": "markdown",
   "metadata": {},
   "source": [
    "### 병합정렬 \n",
    "시간복잡도 N(logN) 을 보장하는 정렬 알고리즘으로 퀵정렬은 최악의경우 (N^2)가 될 수 있기 때문에 병합정렬을 사용한다."
   ]
  },
  {
   "cell_type": "markdown",
   "metadata": {},
   "source": [
    "### 백준 2751번 수 정렬하기 2\n",
    "https://www.acmicpc.net/problem/2751\n",
    "\n",
    "입력을 sys로 받아야 시간초과가 나지않는다....."
   ]
  },
  {
   "cell_type": "code",
   "execution_count": 32,
   "metadata": {},
   "outputs": [
    {
     "name": "stdout",
     "output_type": "stream",
     "text": [
      "5\n",
      "5\n",
      "4\n",
      "3\n",
      "2\n",
      "1\n",
      "1\n",
      "2\n",
      "3\n",
      "4\n",
      "5\n"
     ]
    }
   ],
   "source": [
    "n = int(input())\n",
    "\n",
    "arr = []\n",
    "for _ in range(n):\n",
    "    arr.append(int(input()))\n",
    "\n",
    "def merge(arr):\n",
    "\n",
    "    if len(arr) < 2:\n",
    "        return arr\n",
    "    \n",
    "    mid = len(arr) // 2\n",
    "    low = merge(arr[:mid])\n",
    "    high = merge(arr[mid:])\n",
    "    \n",
    "    merge_arr = []\n",
    "    l = h = 0\n",
    "    \n",
    "    while l < len(low) and h < len(high):\n",
    "        if low[l] < high[h]:\n",
    "            merge_arr.append(low[l])\n",
    "            l += 1\n",
    "        else:\n",
    "            merge_arr.append(high[h])\n",
    "            h += 1\n",
    "            \n",
    "    merge_arr += low[l:]\n",
    "    merge_arr += high[h:]\n",
    "    return merge_arr\n",
    "\n",
    "answer = merge(arr)\n",
    "\n",
    "for i in answer:\n",
    "    print(i)"
   ]
  },
  {
   "cell_type": "markdown",
   "metadata": {},
   "source": [
    "### 백준 10814번 나이순 정렬\n",
    "https://www.acmicpc.net/problem/10814"
   ]
  },
  {
   "cell_type": "code",
   "execution_count": 53,
   "metadata": {},
   "outputs": [
    {
     "name": "stdout",
     "output_type": "stream",
     "text": [
      "3\n",
      "21 Junkyu\n",
      "21 Dohyun\n",
      "20 Sunyoung\n",
      "20 Sunyoung\n",
      "21 Junkyu\n",
      "21 Dohyun\n"
     ]
    }
   ],
   "source": [
    "import sys\n",
    "\n",
    "n = int(input())\n",
    "arr = []\n",
    "for i in range(n):\n",
    "    a, b = input().split()\n",
    "    arr.append([int(a), b, i])\n",
    "    \n",
    "arr.sort(key=lambda x: (x[0], x[2]))\n",
    "\n",
    "for i, j, k in arr:\n",
    "    print(i, j)"
   ]
  },
  {
   "cell_type": "markdown",
   "metadata": {},
   "source": [
    "### 리트코드 179. Largest Number\n",
    "https://leetcode.com/problems/largest-number/description/"
   ]
  },
  {
   "cell_type": "code",
   "execution_count": 109,
   "metadata": {},
   "outputs": [
    {
     "name": "stdout",
     "output_type": "stream",
     "text": [
      "[9, 5, 34, 3, 30]\n"
     ]
    }
   ],
   "source": [
    "nums = [3, 30, 34, 5, 9]\n",
    "\n",
    "result = sorted(nums, key=lambda x: (str(x)[0], str(x)[1] if len(str(x)) > 1 else '0'), reverse=True)\n",
    "\n",
    "print(result[:])"
   ]
  },
  {
   "cell_type": "markdown",
   "metadata": {},
   "source": [
    "### 백준 2108번 통계학\n",
    "https://www.acmicpc.net/problem/2108"
   ]
  },
  {
   "cell_type": "code",
   "execution_count": 171,
   "metadata": {},
   "outputs": [
    {
     "name": "stdout",
     "output_type": "stream",
     "text": [
      "3\n",
      "0\n",
      "0\n",
      "-1\n",
      "0\n",
      "0\n",
      "0\n",
      "1\n"
     ]
    }
   ],
   "source": [
    "n = int(input())\n",
    "\n",
    "arr = []\n",
    "\n",
    "for _ in range(n):\n",
    "    arr.append(int(input()))\n",
    "\n",
    "arr.sort()\n",
    "\n",
    "def frequency():\n",
    "    dic = {}\n",
    "\n",
    "    for i in arr:\n",
    "        if i in dic:\n",
    "            dic[i] += 1\n",
    "        else:\n",
    "            dic[i] = 1    \n",
    "            \n",
    "    l1 = sorted(dic.items(), key = lambda x:(x[1], x[0]), reverse = True)\n",
    "    MAX = l1[0][1]\n",
    "    l2 = [i for i in l1 if i[1] == MAX]\n",
    "    \n",
    "    if len(l2) > 1:\n",
    "        return l2[-2][0]\n",
    "    else:\n",
    "        return l2[-1][0]\n",
    "\n",
    "a = round(sum(arr)/len(arr))\n",
    "b = arr[len(arr)//2]\n",
    "c = frequency()\n",
    "d = arr[-1] - arr[0]\n",
    "\n",
    "print(a)\n",
    "print(b)\n",
    "print(c)\n",
    "print(d)"
   ]
  },
  {
   "cell_type": "markdown",
   "metadata": {},
   "source": [
    "### 백준 5052번 전화번호 목록\n",
    "https://www.acmicpc.net/problem/5052"
   ]
  },
  {
   "cell_type": "code",
   "execution_count": 218,
   "metadata": {},
   "outputs": [
    {
     "name": "stdout",
     "output_type": "stream",
     "text": [
      "2\n",
      "3\n",
      "911\n",
      "97625999\n",
      "91125426\n",
      "NO\n",
      "5\n",
      "113\n",
      "12340\n",
      "123440\n",
      "12345\n",
      "98346\n",
      "YES\n"
     ]
    }
   ],
   "source": [
    "t = int(input())\n",
    "\n",
    "def check(phone):\n",
    "\n",
    "    a = phone[0]\n",
    "\n",
    "    for i in range(1, len(phone)):\n",
    "        if a == phone[i][:len(a)]:\n",
    "            return 'NO'\n",
    "        else:\n",
    "            a = phone[i]\n",
    "    return 'YES'\n",
    "\n",
    "for _ in range(t):\n",
    "    n = int(input())\n",
    "    \n",
    "    phone = []\n",
    "    for _ in range(n):\n",
    "        phone.append(input())\n",
    "    \n",
    "    phone.sort()\n",
    "    \n",
    "    check = True\n",
    "    \n",
    "    for i in range(n-1):\n",
    "        long = len(phone[i])\n",
    "        if phone[i] == phone[i+1][:long]:\n",
    "            check = False\n",
    "            break\n",
    "    if check:\n",
    "        print('YES')\n",
    "    else:\n",
    "        print('NO')\n"
   ]
  },
  {
   "cell_type": "code",
   "execution_count": 217,
   "metadata": {},
   "outputs": [],
   "source": [
    "import sys\n",
    "input = sys.stdin.readline\n",
    "\n",
    "t = int(input())\n",
    "\n",
    "for _ in range(t):\n",
    "    n = int(input())\n",
    "    \n",
    "    phone = []\n",
    "    for _ in range(n):\n",
    "        phone.append(input().rstrip())\n",
    "    \n",
    "    phone.sort()\n",
    "    \n",
    "    check = True\n",
    "    \n",
    "    for i in range(n-1):\n",
    "        long = len(phone[i])\n",
    "        if phone[i] == phone[i+1][:long]:\n",
    "            check = False\n",
    "            break\n",
    "    if check:\n",
    "        print('YES')\n",
    "    else:\n",
    "        print('NO')"
   ]
  },
  {
   "cell_type": "code",
   "execution_count": null,
   "metadata": {},
   "outputs": [],
   "source": [
    "\"class Solution:\n",
    "    def sortColors(self, nums: List[int]) -> None:\n",
    "\n",
    "        red, white, blue = 0, 0, len(nums)\n",
    "\n",
    "        while white < blue:\n",
    "            if nums[white] == 0:\n",
    "                nums[red], nums[white] = nums[white], nums[red]\n",
    "                red += 1\n",
    "                white += 1\n",
    "            elif nums[white] == 1:\n",
    "                white += 1\n",
    "            else:\n",
    "                blue -= 1\n",
    "                nums[white], nums[blue] = nums[blue], nums[white]\""
   ]
  }
 ],
 "metadata": {
  "kernelspec": {
   "display_name": "Python 3",
   "language": "python",
   "name": "python3"
  },
  "language_info": {
   "codemirror_mode": {
    "name": "ipython",
    "version": 3
   },
   "file_extension": ".py",
   "mimetype": "text/x-python",
   "name": "python",
   "nbconvert_exporter": "python",
   "pygments_lexer": "ipython3",
   "version": "3.7.7"
  }
 },
 "nbformat": 4,
 "nbformat_minor": 4
}
