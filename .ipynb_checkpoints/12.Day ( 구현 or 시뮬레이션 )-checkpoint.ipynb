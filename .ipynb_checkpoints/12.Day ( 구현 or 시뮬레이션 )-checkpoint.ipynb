{
 "cells": [
  {
   "cell_type": "markdown",
   "metadata": {},
   "source": [
    "### 17144번 미세먼지 안녕\n",
    "https://www.acmicpc.net/problem/17144"
   ]
  },
  {
   "cell_type": "code",
   "execution_count": 30,
   "metadata": {},
   "outputs": [],
   "source": [
    "r, c, t = map(int, input().split())\n",
    "\n",
    "arr = []\n",
    "air = []\n",
    "\n",
    "for i in range(r):\n",
    "    li = list(map(int, input().split()))\n",
    "    \n",
    "    if -1 in li:         # 공기청정기 위치를 저장하기 위한 코드\n",
    "        air.append(i)\n",
    "    arr.append(li)"
   ]
  },
  {
   "cell_type": "code",
   "execution_count": 136,
   "metadata": {},
   "outputs": [],
   "source": [
    "def spread():\n",
    "    # 새로운 배열을 만들고 공기청정기 위치를 적용하는 코드\n",
    "    new_arr = [[0] * c for _ in range(r)]     \n",
    "\n",
    "    for a in air:\n",
    "        new_arr[a][0] = -1\n",
    "    \n",
    "    # 우, 좌, 하, 상 으로 인접한 4방향을 체크하기 위한 코드\n",
    "    dx = [1, -1, 0, 0]        \n",
    "    dy = [0, 0, 1, -1]\n",
    "    \n",
    "    for i in range(len(arr)):\n",
    "        for j in range(len(arr[0])):\n",
    "            if arr[i][j] >= 0: # 미세먼지가 존재하는지 체크\n",
    "                new_arr[i][j] += arr[i][j] # 존재하면 새 배열에 먼지 값 더해주기\n",
    "                \n",
    "                for d in range(4): # 우좌하상 체크 후 좌표 업데이트\n",
    "                    nx = i + dx[d]\n",
    "                    ny = j + dy[d]\n",
    "                    \n",
    "                    # 배열의 길이와 공기청정기가 없는곳만 탐색하기 위한 조건\n",
    "                    if 0 <= nx < r and 0 <= ny < c and arr[nx][ny] != -1:\n",
    "                        new_arr[nx][ny] += arr[i][j]//5\n",
    "                        new_arr[i][j] -= arr[i][j]//5\n",
    "    return new_arr"
   ]
  },
  {
   "cell_type": "code",
   "execution_count": 160,
   "metadata": {},
   "outputs": [],
   "source": [
    "def rotate():\n",
    "    # 위쪽 반시계\n",
    "    top = air[0]\n",
    "\n",
    "    # 맨 왼쪽 열 먼지 정화시키기\n",
    "    for x in range(top-1, 0, -1):\n",
    "        board[x][0] = board[x-1][0]\n",
    "    \n",
    "    # 맨 위쪽 행 먼지 이동하기\n",
    "    for y in range(c-1):\n",
    "        board[0][y] = board[0][y+1]\n",
    "        \n",
    "    # 맨 오른쪽 열 먼지 이동하기\n",
    "    for x in range(top):\n",
    "        board[x][-1] = board[x+1][-1]\n",
    "        \n",
    "    # 공기청정기가 존재하는 행 옮기기\n",
    "    for y in range(c-1, 0, -1):  \n",
    "        board[top][y] = board[top][y-1]\n",
    "        \n",
    "\n",
    "    # 아래쪽 시계\n",
    "    bottom = air[1]\n",
    "    \n",
    "    # 맨 왼쪽 열 먼지 정화시키기\n",
    "    for x in range(bottom+1, r-1):\n",
    "        board[x][0] = board[x+1][0]\n",
    "        \n",
    "    # 맨 아래 행 먼지 옮기기\n",
    "    for y in range(c-1):\n",
    "        board[-1][y] = board[-1][y+1]\n",
    "        \n",
    "    #  맨 오른쪽 열 먼지 옮기기\n",
    "    for x in range(r-1, bottom, -1):\n",
    "        board[x][-1] = board[x-1][-1] \n",
    "        \n",
    "    # 공기청정기가 존재하는 행 옮기기\n",
    "    for y in range(c-1, 0, -1):\n",
    "        board[bottom][y] = board[bottom][y-1]\n",
    "    \n",
    "    # 공기청정기에서 부터 나온 값 없애주기\n",
    "    board[top][1] = 0 \n",
    "    board[bottom][1] = 0"
   ]
  },
  {
   "cell_type": "code",
   "execution_count": 162,
   "metadata": {},
   "outputs": [
    {
     "name": "stdout",
     "output_type": "stream",
     "text": [
      "188\n"
     ]
    }
   ],
   "source": [
    "for _ in range(t):\n",
    "    board = spread()\n",
    "    rotate()\n",
    "\n",
    "answer = sum(sum(i) for i in board) + 2\n",
    "print(answer)"
   ]
  },
  {
   "cell_type": "markdown",
   "metadata": {},
   "source": [
    "### 백준 16236번 아기상어\n",
    "https://www.acmicpc.net/problem/16236"
   ]
  },
  {
   "cell_type": "code",
   "execution_count": null,
   "metadata": {},
   "outputs": [],
   "source": [
    "4\n",
    "4 3 2 1\n",
    "0 0 0 0\n",
    "0 0 9 0\n",
    "1 2 3 4"
   ]
  },
  {
   "cell_type": "code",
   "execution_count": 256,
   "metadata": {},
   "outputs": [],
   "source": [
    "from collections import deque\n",
    "\n",
    "# 가장 가까운 곳의 먹이가 있는 곳으로 이동한다 (BFS 탐색 활용)\n",
    "# 너비 깊이만큼이 t초 지났다고 판단\n",
    "\n",
    "n = int(input())\n",
    "arr = []\n",
    "start = 0\n",
    "for i in range(n):\n",
    "    li = list(map(int, input().split()))\n",
    "    \n",
    "    if 9 in li:\n",
    "        start = [i, li.index(9)]\n",
    "    arr.append(li)\n",
    "    \n",
    "size = 2\n",
    "cnt = 0\n",
    "time = 0\n",
    "\n",
    "dx = [-1, 1, 0, 0] # 상 하 좌 우\n",
    "dy = [0, 0, -1, 1]\n",
    "\n",
    "def bfs(x, y): \n",
    "    global cnt, size\n",
    "    \n",
    "    visit = [[0] * n for _ in range(n)]\n",
    "    \n",
    "    l1 = []\n",
    "    arr[x][y] = 0 # 상어의 출발위치를 다시 방문할수도 있으므로 0으로 만든다.\n",
    "    q = deque()\n",
    "    q.append([x, y])\n",
    "    visit[x][y] = 1\n",
    "    \n",
    "    while q:\n",
    "        x, y = q.popleft()\n",
    "        \n",
    "        # 물고기를 먹은수(cnt)와 상어의크기(size)가 같을경우 \n",
    "        # 상어의 크기를 1늘리고 물고기는 0으로한다.\n",
    "        if cnt == size: \n",
    "            size += 1\n",
    "            cnt = 0\n",
    "        \n",
    "        for i in range(4):\n",
    "            nx = x + dx[i]\n",
    "            ny = y + dy[i]\n",
    "            \n",
    "            # 물고기의 크기가 상어보다 같거나 작아야 이동할수 있으므로 조건 추가\n",
    "            if 0 <= nx < n and 0 <= ny < n and arr[nx][ny] <= size and visit[nx][ny] == 0:\n",
    "                # 물고기의 크기가 같을때는 이동만 할 수 있다.\n",
    "                if arr[nx][ny] == 0 or arr[nx][ny] == size:\n",
    "                    q.append([nx, ny])\n",
    "                    visit[nx][ny] = visit[x][y] + 1 # 방문할때 마다 1씩 증가시켜서 시간으로 이용한다.\n",
    "                # 물고기의 크기가 상어보다 작은 경우에 리스트에 해당 (시간, x좌표, y좌표를 추가한다.)\n",
    "                elif arr[nx][ny] < size:\n",
    "                    l1.append([visit[x][y], nx, ny])\n",
    "    \n",
    "    # 시간을 기준으로 오름차순 정렬하여 가장 가까운 위치를 리턴하게끔한다\n",
    "    return sorted(l1, key = lambda x: (x[0], x[1], x[2])) \n",
    "\n",
    "x, y = start\n",
    "\n",
    "while True:\n",
    "    l1 = deque(bfs(x, y))\n",
    "    \n",
    "    if not l1:\n",
    "        break\n",
    "        \n",
    "    t, x, y = l1.popleft()\n",
    "    cnt += 1\n",
    "    time += t\n",
    "    \n",
    "print(time)"
   ]
  },
  {
   "cell_type": "markdown",
   "metadata": {},
   "source": [
    "### 백준 1244번 스위치 켜고 끄기\n",
    "https://www.acmicpc.net/problem/1244"
   ]
  },
  {
   "cell_type": "code",
   "execution_count": null,
   "metadata": {},
   "outputs": [],
   "source": [
    "# 남학생은 스위치 번호가 자기가 받은 수의 배수이면, 스위치 상태 변경\n",
    "\n",
    "# 여학생은 자기가 받은 수와 같은 번호가 붙은 스위치를 중심으로 \n",
    "# 좌우가 대칭이면서 가장 많은 스위치를 포함하는 구간을 찾아서, 그 구간에 속한 스위치의 상태를 모두 바꾼다.\n",
    "# 이때 구간에 속한 스위치 개수는 항상 홀수가 된다."
   ]
  },
  {
   "cell_type": "code",
   "execution_count": 258,
   "metadata": {},
   "outputs": [
    {
     "name": "stdout",
     "output_type": "stream",
     "text": [
      "8\n",
      "0 1 0 1 0 0 0 1\n",
      "2\n",
      "1 3\n",
      "2 3\n"
     ]
    }
   ],
   "source": [
    "n = int(input())\n",
    "switch = list(map(int, input().split()))\n",
    "s = int(input())\n",
    "\n",
    "l1 = []\n",
    "for i in range(s):\n",
    "    gender, value = map(int, input().split())\n",
    "    l1.append([gender, value])"
   ]
  },
  {
   "cell_type": "code",
   "execution_count": null,
   "metadata": {},
   "outputs": [],
   "source": []
  }
 ],
 "metadata": {
  "kernelspec": {
   "display_name": "Python 3",
   "language": "python",
   "name": "python3"
  },
  "language_info": {
   "codemirror_mode": {
    "name": "ipython",
    "version": 3
   },
   "file_extension": ".py",
   "mimetype": "text/x-python",
   "name": "python",
   "nbconvert_exporter": "python",
   "pygments_lexer": "ipython3",
   "version": "3.7.7"
  }
 },
 "nbformat": 4,
 "nbformat_minor": 4
}
