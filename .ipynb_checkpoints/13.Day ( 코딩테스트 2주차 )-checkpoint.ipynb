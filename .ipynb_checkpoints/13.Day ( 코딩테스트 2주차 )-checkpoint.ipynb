{
 "cells": [
  {
   "cell_type": "markdown",
   "metadata": {},
   "source": [
    "### 1414번 백준 불우이웃돕기\n",
    "https://www.acmicpc.net/problem/1414"
   ]
  },
  {
   "cell_type": "code",
   "execution_count": 92,
   "metadata": {},
   "outputs": [
    {
     "name": "stdout",
     "output_type": "stream",
     "text": [
      "3\n",
      "abc\n",
      "def\n",
      "ghi\n",
      "40\n"
     ]
    }
   ],
   "source": [
    "# 모든 컴퓨터가 연결되어야 하고, 연결되는 랜선의 길이가 최소가 되어야한다 ( 크루스칼 알고리즘 )\n",
    "\n",
    "# 문자를 숫자로 바꿔주는 함수\n",
    "# ord 함수는 a부터 97이기 때문에 이것을 1로 바꿔주기 위한 작업이 필요하다\n",
    "def char_to_num(s):\n",
    "    if 'a' <= s <= 'z':\n",
    "        return ord(s) - ord('a') + 1    \n",
    "    elif 'A' <= s <= 'Z':\n",
    "        return ord(s) - ord('A') + 27\n",
    "    else:\n",
    "        return 0\n",
    "    \n",
    "# 특정 원소가 속한 집합 찾기\n",
    "def find(parent, x):\n",
    "    # 루트 노드를 찾을 때 까지 재귀 호출\n",
    "    if parent[x] != x:\n",
    "        parent[x] = find(parent,parent[x])\n",
    "    return parent[x]\n",
    "\n",
    "# 두 원소가 속한 집합을 합치기\n",
    "def union(parent, x, y):\n",
    "    x = find(parent, x)\n",
    "    y = find(parent, y)\n",
    "    if x < y:\n",
    "        parent[y] = x\n",
    "    else:\n",
    "        parent[x] = y\n",
    "    \n",
    "n = int(input())\n",
    "\n",
    "graph = []\n",
    "parent = [i for i in range(n)]\n",
    "result = 0\n",
    "total = 0\n",
    "\n",
    "for i in range(n):\n",
    "    string = list(input())\n",
    " \n",
    "    for j in range(n):\n",
    "\n",
    "        x, y, cost = i, j, char_to_num(string[j])\n",
    "        \n",
    "        if i == j:\n",
    "            total += cost\n",
    "            continue\n",
    "        \n",
    "        if string[j] == '0':\n",
    "            continue\n",
    "            \n",
    "        total += cost\n",
    "        graph.append((cost, x, y))\n",
    "\n",
    "graph.sort()\n",
    "answer = 0\n",
    "\n",
    "for g in graph:\n",
    "    cost, x, y = g\n",
    "    \n",
    "    if find(parent, x) != find(parent, y):\n",
    "        union(parent, x, y)\n",
    "        result += cost\n",
    "        answer += 1\n",
    "\n",
    "if answer == n-1:\n",
    "    print(total-result)\n",
    "else:\n",
    "    print(-1)\n",
    "    \n",
    "if len(set(parent)) == 1:\n",
    "    print(total - result)\n",
    "else:\n",
    "    print(-1)"
   ]
  },
  {
   "cell_type": "code",
   "execution_count": 93,
   "metadata": {},
   "outputs": [
    {
     "data": {
      "text/plain": [
       "[0, 0, 0]"
      ]
     },
     "execution_count": 93,
     "metadata": {},
     "output_type": "execute_result"
    }
   ],
   "source": [
    "parent"
   ]
  },
  {
   "cell_type": "markdown",
   "metadata": {},
   "source": [
    "### 백준 18808번 스티커 붙이기\n",
    "https://www.acmicpc.net/problem/18808"
   ]
  },
  {
   "cell_type": "code",
   "execution_count": 98,
   "metadata": {},
   "outputs": [
    {
     "name": "stdout",
     "output_type": "stream",
     "text": [
      "5 4 4\n",
      "3 3\n",
      "1 0 1\n",
      "1 1 1\n",
      "1 0 1\n",
      "2 5\n",
      "1 1 1 1 1\n",
      "0 0 0 1 0\n",
      "2 3\n",
      "1 1 1\n",
      "1 0 1\n",
      "3 3\n",
      "1 0 0\n",
      "1 1 1\n",
      "1 0 0\n"
     ]
    }
   ],
   "source": [
    "n, m, k = map(int, input().split())\n",
    "\n",
    "sticker = []\n",
    "arr = [[0]*m for _ in range(n)]\n",
    "\n",
    "for i in range(k):\n",
    "    r, c = map(int, input().split())\n",
    "    \n",
    "    st = []\n",
    "    for j in range(r):\n",
    "        st.append(list(map(int, input().split())))\n",
    "    sticker.append(st)\n",
    "    \n",
    "for s in sticker:\n",
    "    put(s)\n",
    "    \n",
    "def put(s):\n",
    "    for i in range(len(s)):                                                                                     \n",
    "        for j in range(len(s[0])):\n",
    "            if arr[i][j] == 0:\n",
    "                arr[i][j] = s[i][j]\n",
    "                \n",
    "def rotate(s):\n",
    "    s = [list(row[::-1]) for row in zip(*s)]\n",
    "    return s"
   ]
  },
  {
   "cell_type": "code",
   "execution_count": 108,
   "metadata": {},
   "outputs": [],
   "source": []
  },
  {
   "cell_type": "code",
   "execution_count": null,
   "metadata": {},
   "outputs": [],
   "source": []
  }
 ],
 "metadata": {
  "kernelspec": {
   "display_name": "Python 3",
   "language": "python",
   "name": "python3"
  },
  "language_info": {
   "codemirror_mode": {
    "name": "ipython",
    "version": 3
   },
   "file_extension": ".py",
   "mimetype": "text/x-python",
   "name": "python",
   "nbconvert_exporter": "python",
   "pygments_lexer": "ipython3",
   "version": "3.7.7"
  }
 },
 "nbformat": 4,
 "nbformat_minor": 4
}
