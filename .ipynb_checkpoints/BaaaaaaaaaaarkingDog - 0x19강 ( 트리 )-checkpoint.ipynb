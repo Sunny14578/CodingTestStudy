{
 "cells": [
  {
   "cell_type": "markdown",
   "metadata": {},
   "source": [
    "### 백준 1991번 트리순회"
   ]
  },
  {
   "cell_type": "code",
   "execution_count": 14,
   "metadata": {},
   "outputs": [],
   "source": [
    "def preorder(root):\n",
    "    if root != '.':\n",
    "        print(root, end = '')\n",
    "        preorder(tree[root][0]) # left\n",
    "        preorder(tree[root][1]) # right\n",
    "        \n",
    "def inorder(root):\n",
    "    if root != '.':\n",
    "        inorder(tree[root][0])\n",
    "        print(root, end = '')\n",
    "        inorder(tree[root][1])\n",
    "\n",
    "def postorder(root):\n",
    "    if root != '.':\n",
    "        postorder(tree[root][0])\n",
    "        postorder(tree[root][1]) \n",
    "        print(root, end = '')\n",
    "        \n",
    "n = int(input())\n",
    "tree = {}\n",
    "for _ in range(n):\n",
    "    root, left, right = list(input().split())\n",
    "    tree[root] = [left, right]\n",
    "    \n",
    "preorder('A')\n",
    "print()\n",
    "inorder('A')\n",
    "print()\n",
    "postorder('A')"
   ]
  },
  {
   "cell_type": "markdown",
   "metadata": {},
   "source": [
    "### 백준 노드 사이의 거리\n"
   ]
  },
  {
   "cell_type": "markdown",
   "metadata": {},
   "source": [
    "### 백준 5567번 결혼식\n",
    "https://www.acmicpc.net/problem/5567"
   ]
  },
  {
   "cell_type": "code",
   "execution_count": 78,
   "metadata": {},
   "outputs": [
    {
     "name": "stdout",
     "output_type": "stream",
     "text": [
      "6\n",
      "5\n",
      "2 3\n",
      "3 4\n",
      "4 5\n",
      "5 6\n",
      "2 5\n"
     ]
    }
   ],
   "source": [
    "n = int(input())\n",
    "m = int(input())\n",
    "\n",
    "graph = [[] for _ in range(n+1)]\n",
    "for i in range(m):\n",
    "    a, b = map(int, input().split())\n",
    "    graph[a].append(b)"
   ]
  },
  {
   "cell_type": "code",
   "execution_count": null,
   "metadata": {},
   "outputs": [],
   "source": [
    "6\n",
    "5\n",
    "1 2\n",
    "1 3\n",
    "3 4\n",
    "2 3\n",
    "4 5"
   ]
  },
  {
   "cell_type": "code",
   "execution_count": 79,
   "metadata": {},
   "outputs": [
    {
     "name": "stdout",
     "output_type": "stream",
     "text": [
      "0\n"
     ]
    }
   ],
   "source": [
    "visit = [0] * (n+1)\n",
    "visit[1] = 1\n",
    "\n",
    "def dfs(x, depth):\n",
    "    if depth == 2:\n",
    "        return \n",
    "        \n",
    "    for i in graph[x]:\n",
    "        if visit[i] == 0:\n",
    "            visit[i] = 1\n",
    "        dfs(i, depth+1)\n",
    "        \n",
    "dfs(1, 0)\n",
    "print(sum(visit)-1)"
   ]
  },
  {
   "cell_type": "code",
   "execution_count": 75,
   "metadata": {},
   "outputs": [
    {
     "data": {
      "text/plain": [
       "[0, 1, 1, 1, 0, 0, 0]"
      ]
     },
     "execution_count": 75,
     "metadata": {},
     "output_type": "execute_result"
    }
   ],
   "source": [
    "visit"
   ]
  }
 ],
 "metadata": {
  "kernelspec": {
   "display_name": "Python 3",
   "language": "python",
   "name": "python3"
  },
  "language_info": {
   "codemirror_mode": {
    "name": "ipython",
    "version": 3
   },
   "file_extension": ".py",
   "mimetype": "text/x-python",
   "name": "python",
   "nbconvert_exporter": "python",
   "pygments_lexer": "ipython3",
   "version": "3.7.7"
  }
 },
 "nbformat": 4,
 "nbformat_minor": 4
}
