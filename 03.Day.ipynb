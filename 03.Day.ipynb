{
 "cells": [
  {
   "cell_type": "markdown",
   "metadata": {},
   "source": [
    "### 리트코드 Maximum Product of Two Elements in an Array"
   ]
  },
  {
   "cell_type": "code",
   "execution_count": null,
   "metadata": {},
   "outputs": [],
   "source": [
    "nums = [3, 4, 5, 2]\n",
    "\n",
    "nums.sort()\n",
    "\n",
    "return (nums[-1]-1)*(n[-2]-1)"
   ]
  },
  {
   "cell_type": "markdown",
   "metadata": {},
   "source": [
    "### 리트코드 The K Weakest Rows in a Matrix"
   ]
  },
  {
   "cell_type": "code",
   "execution_count": 35,
   "metadata": {},
   "outputs": [
    {
     "data": {
      "text/plain": [
       "[0, 2]"
      ]
     },
     "execution_count": 35,
     "metadata": {},
     "output_type": "execute_result"
    }
   ],
   "source": [
    "class Solution:\n",
    "    def kWeakestRows(self, mat: List[List[int]], k: int) -> List[int]:\n",
    "        row = []\n",
    "        \n",
    "        for i in range(len(mat)):\n",
    "            row.append([mat[i].count(1), i])\n",
    "\n",
    "        row.sort()\n",
    "        \n",
    "        answer = []\n",
    "        for j in range(k):\n",
    "            answer.append(row[j][1])\n",
    "\n",
    "        return answer"
   ]
  },
  {
   "cell_type": "markdown",
   "metadata": {},
   "source": [
    "### 리트코드 Kth Largest Element in an Array"
   ]
  },
  {
   "cell_type": "code",
   "execution_count": 37,
   "metadata": {},
   "outputs": [
    {
     "data": {
      "text/plain": [
       "5"
      ]
     },
     "execution_count": 37,
     "metadata": {},
     "output_type": "execute_result"
    }
   ],
   "source": [
    "class Solution:\n",
    "    def findKthLargest(self, nums: List[int], k: int) -> int:\n",
    "        return sorted(nums)[-k]"
   ]
  },
  {
   "cell_type": "markdown",
   "metadata": {},
   "source": [
    "### 백준 1927번 최소힙"
   ]
  },
  {
   "cell_type": "code",
   "execution_count": 1,
   "metadata": {
    "collapsed": true
   },
   "outputs": [
    {
     "ename": "ValueError",
     "evalue": "invalid literal for int() with base 10: ''",
     "output_type": "error",
     "traceback": [
      "\u001b[1;31m---------------------------------------------------------------------------\u001b[0m",
      "\u001b[1;31mValueError\u001b[0m                                Traceback (most recent call last)",
      "\u001b[1;32m<ipython-input-1-f3d1deb7c905>\u001b[0m in \u001b[0;36m<module>\u001b[1;34m\u001b[0m\n\u001b[0;32m      4\u001b[0m \u001b[0mheap\u001b[0m \u001b[1;33m=\u001b[0m \u001b[1;33m[\u001b[0m\u001b[1;33m]\u001b[0m\u001b[1;33m\u001b[0m\u001b[1;33m\u001b[0m\u001b[0m\n\u001b[0;32m      5\u001b[0m \u001b[1;33m\u001b[0m\u001b[0m\n\u001b[1;32m----> 6\u001b[1;33m \u001b[0mn\u001b[0m \u001b[1;33m=\u001b[0m \u001b[0mint\u001b[0m\u001b[1;33m(\u001b[0m\u001b[0msys\u001b[0m\u001b[1;33m.\u001b[0m\u001b[0mstdin\u001b[0m\u001b[1;33m.\u001b[0m\u001b[0mreadline\u001b[0m\u001b[1;33m(\u001b[0m\u001b[1;33m)\u001b[0m\u001b[1;33m)\u001b[0m\u001b[1;33m\u001b[0m\u001b[1;33m\u001b[0m\u001b[0m\n\u001b[0m\u001b[0;32m      7\u001b[0m \u001b[1;33m\u001b[0m\u001b[0m\n\u001b[0;32m      8\u001b[0m \u001b[1;32mfor\u001b[0m \u001b[0mi\u001b[0m \u001b[1;32min\u001b[0m \u001b[0mrange\u001b[0m\u001b[1;33m(\u001b[0m\u001b[0mn\u001b[0m\u001b[1;33m)\u001b[0m\u001b[1;33m:\u001b[0m\u001b[1;33m\u001b[0m\u001b[1;33m\u001b[0m\u001b[0m\n",
      "\u001b[1;31mValueError\u001b[0m: invalid literal for int() with base 10: ''"
     ]
    }
   ],
   "source": [
    "import heapq, sys\n",
    "\n",
    "heap = []\n",
    "\n",
    "n = int(sys.stdin.readline())\n",
    "\n",
    "for i in range(n):\n",
    "    number = int(sys.stdin.readline())\n",
    "    \n",
    "    if number == 0:\n",
    "        if heap:\n",
    "            print(heapq.heappop(heap))\n",
    "        else:\n",
    "            print(0)\n",
    "    else:\n",
    "        heapq.heappush(heap, number)"
   ]
  },
  {
   "cell_type": "markdown",
   "metadata": {},
   "source": [
    "### 백준 11279번 최대힙"
   ]
  },
  {
   "cell_type": "code",
   "execution_count": 3,
   "metadata": {
    "collapsed": true
   },
   "outputs": [
    {
     "name": "stdout",
     "output_type": "stream",
     "text": [
      "13\n",
      "0\n",
      "흠\n",
      "0\n",
      "1\n",
      "흠\n",
      "2\n",
      "흠\n",
      "0\n",
      "흠\n",
      "-2\n",
      "ㄹ\n"
     ]
    },
    {
     "ename": "ValueError",
     "evalue": "invalid literal for int() with base 10: 'ㄹ'",
     "output_type": "error",
     "traceback": [
      "\u001b[1;31m---------------------------------------------------------------------------\u001b[0m",
      "\u001b[1;31mValueError\u001b[0m                                Traceback (most recent call last)",
      "\u001b[1;32m<ipython-input-3-d177e240df3c>\u001b[0m in \u001b[0;36m<module>\u001b[1;34m\u001b[0m\n\u001b[0;32m      5\u001b[0m \u001b[1;33m\u001b[0m\u001b[0m\n\u001b[0;32m      6\u001b[0m \u001b[1;32mfor\u001b[0m \u001b[0mi\u001b[0m \u001b[1;32min\u001b[0m \u001b[0mrange\u001b[0m\u001b[1;33m(\u001b[0m\u001b[0mn\u001b[0m\u001b[1;33m)\u001b[0m\u001b[1;33m:\u001b[0m\u001b[1;33m\u001b[0m\u001b[1;33m\u001b[0m\u001b[0m\n\u001b[1;32m----> 7\u001b[1;33m     \u001b[0mnumber\u001b[0m \u001b[1;33m=\u001b[0m \u001b[0mint\u001b[0m\u001b[1;33m(\u001b[0m\u001b[0minput\u001b[0m\u001b[1;33m(\u001b[0m\u001b[1;33m)\u001b[0m\u001b[1;33m)\u001b[0m\u001b[1;33m\u001b[0m\u001b[1;33m\u001b[0m\u001b[0m\n\u001b[0m\u001b[0;32m      8\u001b[0m     \u001b[0mprint\u001b[0m\u001b[1;33m(\u001b[0m\u001b[1;34m'흠'\u001b[0m\u001b[1;33m)\u001b[0m\u001b[1;33m\u001b[0m\u001b[1;33m\u001b[0m\u001b[0m\n\u001b[0;32m      9\u001b[0m \u001b[1;33m\u001b[0m\u001b[0m\n",
      "\u001b[1;31mValueError\u001b[0m: invalid literal for int() with base 10: 'ㄹ'"
     ]
    }
   ],
   "source": [
    "import heapq, sys\n",
    "\n",
    "n = int(sys.stdin.readline())\n",
    "heap = []\n",
    "\n",
    "for i in range(n):\n",
    "    number = int(sys.stdin.readline())\n",
    "    \n",
    "    if number == 0:\n",
    "        if heap:\n",
    "            print(abs(heapq.heappop(heap)))\n",
    "        else:\n",
    "            print(0)\n",
    "    else:\n",
    "        heapq.heappush(heap, -number)"
   ]
  },
  {
   "cell_type": "markdown",
   "metadata": {},
   "source": [
    "### 백준 18258번 큐 2"
   ]
  },
  {
   "cell_type": "code",
   "execution_count": null,
   "metadata": {},
   "outputs": [],
   "source": [
    "import sys\n",
    "\n",
    "n = int(sys.stdin.readline())"
   ]
  },
  {
   "cell_type": "code",
   "execution_count": 15,
   "metadata": {},
   "outputs": [
    {
     "name": "stdout",
     "output_type": "stream",
     "text": [
      "3\n",
      "push 1\n",
      "       \n",
      "front\n",
      "       \n",
      "1\n",
      "d\n",
      "       \n"
     ]
    }
   ],
   "source": [
    "from queue import deque\n",
    "\n",
    "q = deque()\n",
    "\n",
    "n = int(sys.stdin.readline())\n",
    "\n",
    "for i in range(n):\n",
    "    command = sys.stdin.readline().split()\n",
    "  \n",
    "    if command[0] == 'push':\n",
    "        q.append(command[1])\n",
    "    elif command[0] == 'pop':\n",
    "        if q:\n",
    "            print(q.pop())\n",
    "        else:\n",
    "            print(-1)\n",
    "    elif command[0] == 'size':\n",
    "        print(len(q))\n",
    "    elif command[0] == 'empty':\n",
    "        if q:\n",
    "            print(0)\n",
    "        else:\n",
    "            print(1)\n",
    "    elif command[0] == 'front':\n",
    "        if q:\n",
    "            print(q[0])\n",
    "        else:\n",
    "            print(-1)        \n",
    "    elif command[0] == 'back':\n",
    "        if q:\n",
    "            print(q.pop())\n",
    "        else:\n",
    "            print(-1)"
   ]
  },
  {
   "cell_type": "code",
   "execution_count": 10,
   "metadata": {},
   "outputs": [
    {
     "data": {
      "text/plain": [
       "deque(['1', '2'])"
      ]
     },
     "execution_count": 10,
     "metadata": {},
     "output_type": "execute_result"
    }
   ],
   "source": [
    "import sys\n",
    "from collections import deque\n",
    "n = int(input())\n",
    "queue = deque()\n",
    "for i in range(n):\n",
    "    com = sys.stdin.readline().split()\n",
    "    if com[0] == 'push':\n",
    "        queue.append(com[1])\n",
    "    elif com[0] == 'pop':\n",
    "        if queue:\n",
    "            print(queue.popleft())\n",
    "        else:\n",
    "            print(-1)\n",
    "    elif com[0] == 'size':\n",
    "        print(len(queue))\n",
    "    elif com[0] == 'empty':\n",
    "        if queue:\n",
    "            print(0)\n",
    "        else:\n",
    "            print(1)\n",
    "    elif com[0] == 'front':\n",
    "        if queue:\n",
    "            print(queue[0])\n",
    "        else:\n",
    "            print(-1)\n",
    "    elif com[0] == 'back':\n",
    "        if queue:\n",
    "            print(queue[-1])\n",
    "        else:\n",
    "            print(-1)            "
   ]
  },
  {
   "cell_type": "markdown",
   "metadata": {},
   "source": [
    "### 백준 2164번 카드2"
   ]
  },
  {
   "cell_type": "code",
   "execution_count": 22,
   "metadata": {},
   "outputs": [
    {
     "name": "stdout",
     "output_type": "stream",
     "text": [
      "4\n",
      "4\n"
     ]
    }
   ],
   "source": [
    "from collections import deque\n",
    "\n",
    "n = int(input())\n",
    "q = deque(range(1, n+1))\n",
    "\n",
    "while len(q) > 1:\n",
    "    q.popleft()\n",
    "    q.rotate(-1)\n",
    "    \n",
    "print(q[0])"
   ]
  },
  {
   "cell_type": "markdown",
   "metadata": {},
   "source": [
    "### 백준 11866번 요세푸스 문제 0"
   ]
  },
  {
   "cell_type": "code",
   "execution_count": 44,
   "metadata": {},
   "outputs": [
    {
     "name": "stdout",
     "output_type": "stream",
     "text": [
      "<3, 6, 2, 7, 5, 1, 4>"
     ]
    }
   ],
   "source": [
    "from collections import deque\n",
    "n, k = map(int, sys.stdin.readline().split())\n",
    "q = deque(range(1, n+1))\n",
    "\n",
    "answer = []\n",
    "\n",
    "while q:\n",
    "    q.rotate(-(k-1))\n",
    "    answer.append(q.popleft())\n",
    "\n",
    "print('<', end = '')\n",
    "\n",
    "for i in range(len(answer)):\n",
    "    if i == len(answer)-1:\n",
    "        print(answer[i], end = '>')\n",
    "    else:\n",
    "        print(answer[i], end = ', ')"
   ]
  },
  {
   "cell_type": "markdown",
   "metadata": {},
   "source": [
    "### 백준 28279번 덱 2"
   ]
  },
  {
   "cell_type": "code",
   "execution_count": 45,
   "metadata": {
    "collapsed": true
   },
   "outputs": [
    {
     "ename": "TypeError",
     "evalue": "append() takes exactly one argument (2 given)",
     "output_type": "error",
     "traceback": [
      "\u001b[1;31m---------------------------------------------------------------------------\u001b[0m",
      "\u001b[1;31mTypeError\u001b[0m                                 Traceback (most recent call last)",
      "\u001b[1;32m<ipython-input-45-d390f4811417>\u001b[0m in \u001b[0;36m<module>\u001b[1;34m\u001b[0m\n\u001b[0;32m      1\u001b[0m \u001b[0ml\u001b[0m \u001b[1;33m=\u001b[0m \u001b[1;33m[\u001b[0m\u001b[1;36m1\u001b[0m\u001b[1;33m,\u001b[0m\u001b[1;36m2\u001b[0m\u001b[1;33m,\u001b[0m \u001b[1;36m3\u001b[0m\u001b[1;33m]\u001b[0m\u001b[1;33m\u001b[0m\u001b[1;33m\u001b[0m\u001b[0m\n\u001b[1;32m----> 2\u001b[1;33m \u001b[0ml\u001b[0m\u001b[1;33m.\u001b[0m\u001b[0mappend\u001b[0m\u001b[1;33m(\u001b[0m\u001b[1;36m1\u001b[0m\u001b[1;33m,\u001b[0m \u001b[1;36m0\u001b[0m\u001b[1;33m)\u001b[0m\u001b[1;33m\u001b[0m\u001b[1;33m\u001b[0m\u001b[0m\n\u001b[0m",
      "\u001b[1;31mTypeError\u001b[0m: append() takes exactly one argument (2 given)"
     ]
    }
   ],
   "source": [
    "from collections import deque\n",
    "import sys\n",
    "\n",
    "n = int(input())\n",
    "q = deque()\n",
    "\n",
    "for i in range(n):\n",
    "    com = list(map(int, sys.stdin.readline().strip().split()))\n",
    "    leng = len(q)\n",
    "    if com[0] == 1:\n",
    "        q.appendleft(com[1])\n",
    "    elif com[0] == 2:\n",
    "        q.append(com[1])\n",
    "    elif com[0] == 3:\n",
    "        print(q.popleft() if leng else -1)\n",
    "    elif com[0] == 4:\n",
    "        print(q.pop() if leng else -1)\n",
    "    elif com[0] == 5:\n",
    "        print(len(q))\n",
    "    elif com[0] == 6:\n",
    "        print(0 if leng else 1)\n",
    "    elif com[0] == 7:\n",
    "        print(q[0] if leng else -1)\n",
    "    elif com[0] == 8:\n",
    "        print(q[-1] if leng else -1)"
   ]
  },
  {
   "cell_type": "markdown",
   "metadata": {},
   "source": [
    "### 2346번 풍선 터뜨리기"
   ]
  },
  {
   "cell_type": "markdown",
   "metadata": {},
   "source": [
    "1. 제일처음 1번 풍선을 터뜨린다.\n",
    "2. 풍선 안에 있는 종이를 꺼내어 그 종이에 적혀있는 값만큼 이동하여 다음 풍선을 터뜨린다 (양수는 오른쪽, 음수는 왼쪽)\n",
    "3. 이동할 때에는 이미 터진 풍선은 빼고 이동한다."
   ]
  },
  {
   "cell_type": "markdown",
   "metadata": {},
   "source": [
    "오른쪽으로 이동하여 꺼낸다는말은 오른쪽에 위치한 풍선을 0번째 인덱스로 옮겨야 하기 때문에 rotate를 음수로 돌려야한다. <br>\n",
    "왼쪽으로 이동하여 꺼낸다는말은 왼쪽에 위치한 풍선을 0번째 인덱스로 옮겨야하기 때문에 rotate를 양수로 돌려야한다. (주의할점은 음수 값이 들어오기 때문에 해당 값으로 rotate하기 위해서는 양수로 바꿔줘야함.)"
   ]
  },
  {
   "cell_type": "code",
   "execution_count": 80,
   "metadata": {},
   "outputs": [
    {
     "name": "stdout",
     "output_type": "stream",
     "text": [
      "7\n",
      "2 4 -2 -1 2 -4 3\n",
      "1 3 7 5 2 6 4 "
     ]
    }
   ],
   "source": [
    "from collections import deque\n",
    "\n",
    "n = int(input())\n",
    "\n",
    "b = list(map(int, input().split(' ')))\n",
    "\n",
    "q = deque([[value, idx] for idx, value in enumerate(b)])\n",
    "\n",
    "while q:\n",
    "    info = q.popleft()\n",
    "    \n",
    "    if info[0] > 0:\n",
    "        q.rotate(-(info[0]-1))\n",
    "    else:\n",
    "        q.rotate(-info[0])\n",
    "    \n",
    "    print(info[1]+1, end = ' ')"
   ]
  },
  {
   "cell_type": "markdown",
   "metadata": {},
   "source": [
    "### 백준 24511번 queuestack"
   ]
  },
  {
   "cell_type": "code",
   "execution_count": 83,
   "metadata": {},
   "outputs": [
    {
     "name": "stdout",
     "output_type": "stream",
     "text": [
      "4\n",
      "0 1 1 0\n",
      "1 2 3 4\n",
      "3\n",
      "2 4 7\n"
     ]
    }
   ],
   "source": [
    "from collections import deque\n",
    "\n",
    "n = int(input())\n",
    "\n",
    "ty = list(map(int, input().split(' ')))\n",
    "data = list(map(int, input().split(' ')))\n",
    "m = int(input())\n",
    "qs = list(map(int, input().split(' ')))\n",
    "\n",
    "answer = []\n",
    "\n",
    "for i in range(n):\n",
    "    answer.append(deque([data[i]]))\n",
    "\n",
    "for v in qs:\n",
    "    value = 0\n",
    "    answer[0].append(v)\n",
    "    \n",
    "    for j in range(n-1):\n",
    "        if ty[j] == 0:\n",
    "            value = answer[j].popleft()\n",
    "            answer[j+1].append(value)\n",
    "        else:\n",
    "            value = answer[j].pop()\n",
    "            answer[j+1].append(value)\n",
    "            \n",
    "    if ty[-1] == 0:\n",
    "        print(answer[-1].popleft())\n",
    "    else:\n",
    "        print(answer[-1].pop())"
   ]
  },
  {
   "cell_type": "code",
   "execution_count": 103,
   "metadata": {},
   "outputs": [
    {
     "name": "stdout",
     "output_type": "stream",
     "text": [
      "[deque([2]), deque([2]), deque([3]), deque([4, 1])]\n",
      "4\n",
      "[deque([4]), deque([2]), deque([3]), deque([1, 2])]\n",
      "1\n",
      "[deque([7]), deque([2]), deque([3]), deque([2, 4])]\n",
      "2\n"
     ]
    }
   ],
   "source": [
    "answer = []\n",
    "\n",
    "for i in range(n):\n",
    "    answer.append(deque([data[i]]))\n",
    "\n",
    "for v in qs:\n",
    "    value = 0\n",
    "    answer[0].append(v)\n",
    "    \n",
    "    for j in range(n-1):\n",
    "        if ty[j] == 0:\n",
    "            value = answer[j].popleft()\n",
    "            answer[j+1].append(value)\n",
    "        else:\n",
    "            value = answer[j].pop()\n",
    "            answer[j+1].append(value)\n",
    "            \n",
    "    if ty[-1] == 0:\n",
    "        print(answer[-1].popleft())\n",
    "    else:\n",
    "        print(answer[-1].pop())"
   ]
  },
  {
   "cell_type": "code",
   "execution_count": 150,
   "metadata": {},
   "outputs": [
    {
     "name": "stdout",
     "output_type": "stream",
     "text": [
      "4\n",
      "0 1 1 0\n",
      "1 2 3 4\n",
      "3\n",
      "2 4 7\n"
     ]
    }
   ],
   "source": [
    "from collections import deque\n",
    "\n",
    "n = int(input())\n",
    "\n",
    "ty = list(map(int, input().split(' ')))\n",
    "data = list(map(int, input().split(' ')))\n",
    "m = int(input())\n",
    "qs = list(map(int, input().split(' ')))"
   ]
  },
  {
   "cell_type": "code",
   "execution_count": 152,
   "metadata": {},
   "outputs": [
    {
     "name": "stdout",
     "output_type": "stream",
     "text": [
      "deque([1]) 끝\n",
      "deque([1]) 끝\n",
      "deque([1]) 끝\n",
      "deque([4, 1]) 끝\n",
      "deque([4, 1])\n",
      "4 deque([1, 2])\n",
      "1 deque([2, 4])\n",
      "2 "
     ]
    }
   ],
   "source": [
    "q = deque()\n",
    "\n",
    "for i in range(n):\n",
    "    if ty[i] == 0:\n",
    "        q.appendleft(data[i])\n",
    "    print(q, '끝')\n",
    "for i in range(m):\n",
    "    print(q)\n",
    "    q.append(qs[i])\n",
    "    print(q.popleft(), end = ' ')"
   ]
  }
 ],
 "metadata": {
  "kernelspec": {
   "display_name": "Python 3",
   "language": "python",
   "name": "python3"
  },
  "language_info": {
   "codemirror_mode": {
    "name": "ipython",
    "version": 3
   },
   "file_extension": ".py",
   "mimetype": "text/x-python",
   "name": "python",
   "nbconvert_exporter": "python",
   "pygments_lexer": "ipython3",
   "version": "3.7.7"
  }
 },
 "nbformat": 4,
 "nbformat_minor": 4
}
