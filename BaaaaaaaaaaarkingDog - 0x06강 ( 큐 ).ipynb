{
 "cells": [
  {
   "cell_type": "markdown",
   "metadata": {},
   "source": [
    "### 백준 10845번 큐\n",
    "https://www.acmicpc.net/problem/10845"
   ]
  },
  {
   "cell_type": "code",
   "execution_count": 1,
   "metadata": {},
   "outputs": [
    {
     "name": "stdout",
     "output_type": "stream",
     "text": [
      "15\n",
      "push 1\n",
      "push 2\n",
      "front\n",
      "1\n",
      "back\n",
      "2\n",
      "size\n",
      "2\n",
      "empty\n",
      "0\n",
      "pop\n",
      "1\n",
      "pop\n",
      "2\n",
      "pop\n",
      "-1\n",
      "size\n",
      "0\n",
      "empty\n",
      "-1\n",
      "f\n",
      "f\n",
      "f\n",
      "f\n"
     ]
    }
   ],
   "source": [
    "n = int(input())\n",
    "\n",
    "arr = []\n",
    "\n",
    "for _ in range(n):\n",
    "    com = list(input().split())\n",
    "    \n",
    "    if len(com) == 2:\n",
    "        arr.append(com[1])\n",
    "    else:\n",
    "        if com[0] == 'pop':\n",
    "            if arr:\n",
    "                print(arr.pop(0))\n",
    "            else:\n",
    "                print(-1)\n",
    "        elif com[0] == 'size':\n",
    "            print(len(arr))\n",
    "        elif com[0] == 'empty':\n",
    "            if arr:\n",
    "                print(0)\n",
    "            else:\n",
    "                print(1)\n",
    "        elif com[0] == 'front':\n",
    "            if arr:\n",
    "                print(arr[0])\n",
    "            else:\n",
    "                print(-1)\n",
    "        elif com[0] == 'back':\n",
    "            if arr:\n",
    "                print(arr[-1])\n",
    "            else:\n",
    "                print(-1)"
   ]
  },
  {
   "cell_type": "code",
   "execution_count": 3,
   "metadata": {},
   "outputs": [
    {
     "data": {
      "text/plain": [
       "[]"
      ]
     },
     "execution_count": 3,
     "metadata": {},
     "output_type": "execute_result"
    }
   ],
   "source": [
    "arr"
   ]
  }
 ],
 "metadata": {
  "kernelspec": {
   "display_name": "Python 3",
   "language": "python",
   "name": "python3"
  },
  "language_info": {
   "codemirror_mode": {
    "name": "ipython",
    "version": 3
   },
   "file_extension": ".py",
   "mimetype": "text/x-python",
   "name": "python",
   "nbconvert_exporter": "python",
   "pygments_lexer": "ipython3",
   "version": "3.7.7"
  }
 },
 "nbformat": 4,
 "nbformat_minor": 4
}
